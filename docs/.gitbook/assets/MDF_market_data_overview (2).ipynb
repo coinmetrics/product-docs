{
 "cells": [
  {
   "cell_type": "markdown",
   "id": "8b4405f3-ff20-45fc-b83b-8ab976285d28",
   "metadata": {
    "tags": []
   },
   "source": [
    "<img src=\"https://5264302.fs1.hubspotusercontent-na1.net/hubfs/5264302/Demo%20Asset%20Resources/CM-Demo-market_data_overview-Cover.png\" width=1100 margin-left=\"auto\" margin-right=\"auto\"/>\n",
    "\n",
    "Coin Metrics **Market Data Feed** provides access to historical and real-time data from the world’s leading spot and derivatives crypto exchanges. We offer all of the fundamental market-related data types including tick-by-tick trades, quotes, order book snapshots, candles, and more.\n",
    "\n",
    "The example charts showcased in this notebook are presented on a weekly basis in our [State of the Market](https://coinmetrics.io/insights/state-of-the-market/) newsletter.\n",
    "\n",
    "### Resources\n",
    "\n",
    "This notebook demonstrates basic functionality offered by the Coin Metrics Python API Client and [Market Data Feed](https://coinmetrics.io/market-data-feed/).\n",
    "\n",
    "Coin Metrics offers a vast assortment of data for hundreds of cryptoassets. The Python API Client allows for easy access to this data using Python without needing to create your own wrappers using `requests` and other such libraries.\n",
    "\n",
    "To understand the data that Coin Metrics offers, feel free to peruse the resources below.\n",
    "\n",
    "- The [Coin Metrics API v4](https://docs.coinmetrics.io/api/v4) website contains the full set of endpoints and data offered by Coin Metrics.\n",
    "- The [Coin Metrics Product Docs](https://docs.coinmetrics.io/) gives detailed, conceptual explanations of the data that Coin Metrics offers.\n",
    "- The [API Spec](https://coinmetrics.github.io/api-client-python/site/api_client.html) contains a full list of functions."
   ]
  },
  {
   "cell_type": "markdown",
   "id": "16c3476d-c33a-421e-811e-344b59735ec0",
   "metadata": {},
   "source": [
    "## Setup"
   ]
  },
  {
   "cell_type": "code",
   "execution_count": 1,
   "id": "7fbd2927-9184-41fd-8403-b259146ee1a2",
   "metadata": {
    "tags": []
   },
   "outputs": [],
   "source": [
    "from os import environ\n",
    "import sys\n",
    "from datetime import date, datetime, timedelta\n",
    "import logging\n",
    "\n",
    "import pandas as pd\n",
    "import numpy as np\n",
    "import seaborn as sns\n",
    "from coinmetrics.api_client import CoinMetricsClient\n",
    "import logging\n",
    "import matplotlib.pyplot as plt\n",
    "\n",
    "%matplotlib inline"
   ]
  },
  {
   "cell_type": "code",
   "execution_count": 2,
   "id": "6ab06f8c-e7f4-41b4-b92e-18a3de36a427",
   "metadata": {
    "tags": []
   },
   "outputs": [],
   "source": [
    "sns.set_theme()\n",
    "sns.set(rc={\"figure.figsize\":(12,8)})\n",
    "# pd.set_option(\"display.notebook_repr_html\", False)"
   ]
  },
  {
   "cell_type": "code",
   "execution_count": 3,
   "id": "abc14b24-03f4-457c-94aa-0c33ff01c79b",
   "metadata": {
    "tags": []
   },
   "outputs": [],
   "source": [
    "logging.basicConfig(\n",
    "    format=\"%(asctime)s %(levelname)-8s %(message)s\",\n",
    "    level=logging.INFO,\n",
    "    datefmt=\"%Y-%m-%d %H:%M:%S\"\n",
    ")"
   ]
  },
  {
   "cell_type": "code",
   "execution_count": 4,
   "id": "ecbe22c4-ee5a-4130-bc7f-9bf9a61b4bc1",
   "metadata": {
    "tags": []
   },
   "outputs": [
    {
     "name": "stderr",
     "output_type": "stream",
     "text": [
      "2024-10-25 14:48:22 INFO     Using API key found in environment\n"
     ]
    }
   ],
   "source": [
    "# We recommend privately storing your API key in your local environment.\n",
    "try:\n",
    "    api_key = environ[\"CM_API_KEY\"]\n",
    "    logging.info(\"Using API key found in environment\")\n",
    "except KeyError:\n",
    "    api_key = \"\"\n",
    "    logging.info(\"API key not found. Using community client\")\n",
    "client = CoinMetricsClient(api_key)"
   ]
  },
  {
   "cell_type": "markdown",
   "id": "32cfcda6-2546-4965-82a6-bdf857ffc251",
   "metadata": {},
   "source": [
    "# Reference Data/Catalog Endpoints\n",
    "\n",
    "The `catalog` endpoints display the set of data available to your API key. The `catalog-all` endpoints display the full set of data for our data set."
   ]
  },
  {
   "cell_type": "code",
   "execution_count": 5,
   "id": "8368849c-a934-4147-b041-03930daedb8d",
   "metadata": {},
   "outputs": [
    {
     "data": {
      "text/plain": [
       "                      market exchange base    quote         pair   symbol  \\\n",
       "26     binance-btc-usdt-spot  binance  btc     usdt     btc-usdt  BTCUSDT   \n",
       "27      binance-btc-ust-spot  binance  btc      ust      btc-ust   BTCUST   \n",
       "28      binance-btc-vai-spot  binance  btc      vai      btc-vai     <NA>   \n",
       "29  binance-btc-vai_vai-spot  binance  btc  vai_vai  btc-vai_vai   BTCVAI   \n",
       "30      binance-btc-zar-spot  binance  btc      zar      btc-zar   BTCZAR   \n",
       "\n",
       "    type  size_asset  margin_asset  strike  ...  order_price_increment  \\\n",
       "26  spot        <NA>          <NA>    <NA>  ...                   0.01   \n",
       "27  spot        <NA>          <NA>    <NA>  ...                   0.01   \n",
       "28  spot        <NA>          <NA>    <NA>  ...                   <NA>   \n",
       "29  spot        <NA>          <NA>    <NA>  ...                   0.01   \n",
       "30  spot        <NA>          <NA>    <NA>  ...                    1.0   \n",
       "\n",
       "    order_price_min  order_price_max  order_size_min  order_taker_fee  \\\n",
       "26             0.01          1000000               5             <NA>   \n",
       "27             0.01          1000000              10             <NA>   \n",
       "28             <NA>             <NA>            <NA>             <NA>   \n",
       "29             0.01          1000000              10             <NA>   \n",
       "30              1.0         99928191             100             <NA>   \n",
       "\n",
       "    order_maker_fee  margin_trading_enabled  experimental  base_native  \\\n",
       "26             <NA>                    <NA>          <NA>         <NA>   \n",
       "27             <NA>                    <NA>          <NA>         <NA>   \n",
       "28             <NA>                    <NA>          <NA>         <NA>   \n",
       "29             <NA>                    <NA>          <NA>         <NA>   \n",
       "30             <NA>                    <NA>          <NA>         <NA>   \n",
       "\n",
       "    quote_native  \n",
       "26          <NA>  \n",
       "27          <NA>  \n",
       "28          <NA>  \n",
       "29          <NA>  \n",
       "30          <NA>  \n",
       "\n",
       "[5 rows x 39 columns]"
      ]
     },
     "execution_count": 5,
     "metadata": {},
     "output_type": "execute_result"
    }
   ],
   "source": [
    "btc_market_catalog = client.reference_data_markets(\n",
    "    base=\"btc\",\n",
    "    type=\"spot\",\n",
    "    exchange=\"binance\"\n",
    ").to_dataframe()\n",
    "btc_market_catalog.tail(5)"
   ]
  },
  {
   "cell_type": "code",
   "execution_count": 6,
   "id": "024bd35c-3ffc-4326-b826-bf7c2cb69bf9",
   "metadata": {},
   "outputs": [
    {
     "name": "stdout",
     "output_type": "stream",
     "text": [
      "Market catalog metadata includes: ['market', 'exchange', 'base', 'quote', 'pair', 'symbol', 'type', 'size_asset', 'margin_asset', 'strike', 'option_contract_type', 'is_european', 'contract_size', 'tick_size', 'multiplier_size', 'listing', 'expiration', 'settlement_price', 'pool_config_id', 'contract_address', 'fee', 'price_includes_fee', 'variable_fee', 'base_address', 'quote_address', 'status', 'order_amount_increment', 'order_amount_min', 'order_amount_max', 'order_price_increment', 'order_price_min', 'order_price_max', 'order_size_min', 'order_taker_fee', 'order_maker_fee', 'margin_trading_enabled', 'experimental', 'base_native', 'quote_native']\n"
     ]
    }
   ],
   "source": [
    "print(f\"Market reference_data metadata includes: {list(btc_market_catalog.keys())}\")"
   ]
  },
  {
   "cell_type": "markdown",
   "id": "805a0d0a-b258-4ce0-aa04-6c641f4762c6",
   "metadata": {},
   "source": [
    "---\n",
    "# Example 1: Returns by coin in the CM Reference Rates universe\n",
    "---\n",
    "We offer reference rates quoted in USD, Euro, Bitcoin, and Ethereum. We now support these quote currencies for our entire reference rates coverage universe which can be found on [coverage.coinmetrics.io](http://coverage.coinmetrics.io/)\n",
    "    \n",
    "**Fig. 1 - 7 Day Price Change chart from State of the Market**    \n",
    "<img src=\"https://5264302.fs1.hubspotusercontent-na1.net/hubfs/5264302/State%20of%20the%20Market%20-%20Chart%20Examples/Mini-RefRate-Returns.png\" width=450 margin-left=\"auto\" margin-right=\"auto\"/>\n"
   ]
  },
  {
   "cell_type": "code",
   "execution_count": 7,
   "id": "ff677346-5b8b-4e1f-ae5b-1bd499baebbe",
   "metadata": {},
   "outputs": [
    {
     "data": {
      "text/plain": [
       "                metric    frequency    asset\n",
       "0     ReferenceRateUSD           1s     1cat\n",
       "1     ReferenceRateUSD           1m     1cat\n",
       "2     ReferenceRateUSD           1h     1cat\n",
       "3     ReferenceRateUSD           1d     1cat\n",
       "4     ReferenceRateUSD  1d-ny-close     1cat\n",
       "...                ...          ...      ...\n",
       "6060  ReferenceRateUSD           1s  ztx_ztx\n",
       "6061  ReferenceRateUSD           1m  ztx_ztx\n",
       "6062  ReferenceRateUSD           1h  ztx_ztx\n",
       "6063  ReferenceRateUSD           1d  ztx_ztx\n",
       "6064  ReferenceRateUSD  1d-ny-close  ztx_ztx\n",
       "\n",
       "[6065 rows x 3 columns]"
      ]
     },
     "execution_count": 7,
     "metadata": {},
     "output_type": "execute_result"
    }
   ],
   "source": [
    "# Get all assets that have a reference rate \n",
    "assets_refrate = client.catalog_asset_metrics_v2(metrics=\"ReferenceRateUSD\").to_dataframe()\n",
    "assets_refrate[[\"metric\",\"frequency\",\"asset\"]]"
   ]
  },
  {
   "cell_type": "code",
   "execution_count": 8,
   "id": "d7087610-1528-4e17-90f5-ec4d8098cb40",
   "metadata": {},
   "outputs": [
    {
     "name": "stdout",
     "output_type": "stream",
     "text": [
      "\n",
      "Number of unique Reference Rate assets: 1213\n",
      "\n"
     ]
    }
   ],
   "source": [
    "print(\"\\nNumber of unique Reference Rate assets: \" + str(len(pd.unique(assets_refrate[\"asset\"])))+\"\\n\")"
   ]
  },
  {
   "cell_type": "markdown",
   "id": "91a28e6b-4261-41da-9ca6-ccd83ccb9b54",
   "metadata": {},
   "source": [
    "We can retrieve Reference Rates from the `get_asset_metrics` endpoint. The code snippets below demonstrate how to do this with a small list of assets. "
   ]
  },
  {
   "cell_type": "code",
   "execution_count": 9,
   "id": "57d4bd06-1063-4346-8ccd-e43133e0bfd7",
   "metadata": {
    "tags": []
   },
   "outputs": [],
   "source": [
    "# Retrieve Reference Rate\n",
    "df_prices = client.get_asset_metrics(\n",
    "    assets=[\"btc\", \"eth\", \"bnb\", \"ada\", \"doge\", \"xrp\"],\n",
    "    metrics=\"ReferenceRateUSD\",\n",
    "    frequency=\"1d\",\n",
    "    start_time=\"2022-08-10\",\n",
    "    end_time=\"2022-08-17\"\n",
    ").to_dataframe()\n",
    "\n",
    "# Reshape dataset so assets are in columns, dates are the rows, and the values are prices\n",
    "df_prices_pivot = df_prices.pivot(index=\"time\",columns=\"asset\",values=\"ReferenceRateUSD\")"
   ]
  },
  {
   "cell_type": "code",
   "execution_count": 10,
   "id": "cf65dbf4-0c19-4cd6-9205-a153db859084",
   "metadata": {},
   "outputs": [
    {
     "data": {
      "text/plain": [
       "asset                          ada         bnb           btc       doge  \\\n",
       "time                                                                      \n",
       "2022-08-10 00:00:00+00:00  0.514033  325.442291  23186.291746  0.069148   \n",
       "2022-08-11 00:00:00+00:00  0.536694  328.034925  23923.058483  0.071153   \n",
       "2022-08-12 00:00:00+00:00  0.530497  323.337253  23934.439056    0.0708   \n",
       "\n",
       "asset                             eth       xrp   \n",
       "time                                              \n",
       "2022-08-10 00:00:00+00:00  1703.992249  0.368363  \n",
       "2022-08-11 00:00:00+00:00  1850.829961  0.380704  \n",
       "2022-08-12 00:00:00+00:00  1878.113096  0.379859  "
      ]
     },
     "execution_count": 10,
     "metadata": {},
     "output_type": "execute_result"
    }
   ],
   "source": [
    "df_prices_pivot.head(3)"
   ]
  },
  {
   "cell_type": "code",
   "execution_count": 11,
   "id": "1e0a73c1-c9ab-4a20-8d8f-fba67d2e1698",
   "metadata": {},
   "outputs": [
    {
     "name": "stderr",
     "output_type": "stream",
     "text": [
      "2024-10-25 14:48:25 INFO     Calculating returns for ada....\n",
      "2024-10-25 14:48:25 INFO     Calculating returns for bnb....\n",
      "2024-10-25 14:48:25 INFO     Calculating returns for btc....\n",
      "2024-10-25 14:48:25 INFO     Calculating returns for doge....\n",
      "2024-10-25 14:48:25 INFO     Calculating returns for eth....\n",
      "2024-10-25 14:48:25 INFO     Calculating returns for xrp....\n"
     ]
    }
   ],
   "source": [
    "# Index each asset\"s time series to 1 \n",
    "for col in df_prices_pivot.columns:\n",
    "    logging.info(f\"Calculating returns for {col}....\")\n",
    "    first_price = df_prices_pivot[df_prices_pivot[col].notnull()][col].iloc[0]\n",
    "    df_prices_pivot[col] = df_prices_pivot[col]/first_price\n",
    "    df_prices_pivot[col] = df_prices_pivot[col].ffill()"
   ]
  },
  {
   "cell_type": "code",
   "execution_count": 12,
   "id": "9652af25-6cd7-4369-b1d8-d38ac0e99c2b",
   "metadata": {},
   "outputs": [
    {
     "data": {
      "text/plain": [
       "asset                          ada       bnb       btc       doge      eth   \\\n",
       "time                                                                          \n",
       "2022-08-10 00:00:00+00:00       1.0       1.0       1.0       1.0       1.0   \n",
       "2022-08-11 00:00:00+00:00  1.044084  1.007966  1.031776  1.028991  1.086173   \n",
       "2022-08-12 00:00:00+00:00  1.032028  0.993532  1.032267  1.023896  1.102184   \n",
       "2022-08-13 00:00:00+00:00  1.051484  1.005325  1.052187  1.046478  1.147176   \n",
       "2022-08-14 00:00:00+00:00  1.089703  0.995682  1.053477  1.054227  1.162703   \n",
       "2022-08-15 00:00:00+00:00  1.110819  0.976807  1.048646  1.183001  1.136355   \n",
       "2022-08-16 00:00:00+00:00  1.070279  0.980408  1.038715  1.106155  1.116053   \n",
       "2022-08-17 00:00:00+00:00    1.0852  0.971739  1.029437  1.257445  1.101305   \n",
       "\n",
       "asset                          xrp   \n",
       "time                                 \n",
       "2022-08-10 00:00:00+00:00       1.0  \n",
       "2022-08-11 00:00:00+00:00  1.033501  \n",
       "2022-08-12 00:00:00+00:00  1.031207  \n",
       "2022-08-13 00:00:00+00:00  1.030523  \n",
       "2022-08-14 00:00:00+00:00  1.025361  \n",
       "2022-08-15 00:00:00+00:00  1.021364  \n",
       "2022-08-16 00:00:00+00:00  1.017113  \n",
       "2022-08-17 00:00:00+00:00  1.023202  "
      ]
     },
     "execution_count": 12,
     "metadata": {},
     "output_type": "execute_result"
    }
   ],
   "source": [
    "df_prices_pivot"
   ]
  },
  {
   "cell_type": "markdown",
   "id": "8241928e-e098-41da-8950-2e4c0c9539a2",
   "metadata": {},
   "source": [
    "---\n",
    "# Example 2: Spot trading volume on Coinbase\n",
    "---\n",
    "**Fig. 2 - Coinbase daily spot volume breakdown from State of the Market**    \n",
    "<img src=\"https://5264302.fs1.hubspotusercontent-na1.net/hubfs/5264302/State%20of%20the%20Market%20-%20Chart%20Examples/Coinbase-Volume-Breakdown.png\" width=1100 margin-left=\"auto\" margin-right=\"auto\"/>"
   ]
  },
  {
   "cell_type": "markdown",
   "id": "ccde8cdb-b078-47ad-8048-c068bec9b2ed",
   "metadata": {},
   "source": [
    "### Foundational Data Types - Trades\n",
    "\n",
    "Trades are one of the foundational data types we collect from exchanges. From raw trades data, we can construct additional aggregated metrics."
   ]
  },
  {
   "cell_type": "code",
   "execution_count": 13,
   "id": "6d2a64b3-4ef6-4b29-8adb-2733f25172cf",
   "metadata": {},
   "outputs": [],
   "source": [
    "coinbase_btc_trades = client.get_market_trades(\n",
    "    markets=\"coinbase-btc-usd-spot\",\n",
    "    limit_per_market=5,\n",
    "    paging_from=\"end\"\n",
    ").to_dataframe()"
   ]
  },
  {
   "cell_type": "code",
   "execution_count": 14,
   "id": "c77ab824-804c-420e-b905-127eb64781f2",
   "metadata": {},
   "outputs": [
    {
     "data": {
      "text/plain": [
       "                  market                             time  coin_metrics_id  \\\n",
       "0  coinbase-btc-usd-spot 2024-10-25 19:48:24.188784+00:00        706142046   \n",
       "1  coinbase-btc-usd-spot 2024-10-25 19:48:24.188784+00:00        706142047   \n",
       "2  coinbase-btc-usd-spot 2024-10-25 19:48:24.767882+00:00        706142048   \n",
       "3  coinbase-btc-usd-spot 2024-10-25 19:48:25.158094+00:00        706142049   \n",
       "4  coinbase-btc-usd-spot 2024-10-25 19:48:25.570517+00:00        706142050   \n",
       "\n",
       "     amount     price                    database_time  side  \n",
       "0   0.00721  66854.87 2024-10-25 19:48:24.787998+00:00  sell  \n",
       "1   0.00758  66854.01 2024-10-25 19:48:24.787998+00:00  sell  \n",
       "2  0.000341  66854.02 2024-10-25 19:48:25.557208+00:00   buy  \n",
       "3  0.001426  66849.19 2024-10-25 19:48:26.096516+00:00   buy  \n",
       "4     0.004  66846.31 2024-10-25 19:48:26.096516+00:00  sell  "
      ]
     },
     "execution_count": 14,
     "metadata": {},
     "output_type": "execute_result"
    }
   ],
   "source": [
    "coinbase_btc_trades"
   ]
  },
  {
   "cell_type": "markdown",
   "id": "aa81ceaa-52b3-4a5a-ab00-757e219aed8e",
   "metadata": {},
   "source": [
    "### Spot Volume Share - Candles Data\n",
    "\n",
    "From raw trades data, we construct OHLC candles for each market. For our *Spot Volume % by Asset* chart, we derive volume from our `get_market_candles` endpoint.\n",
    "\n",
    "All of our endpoints that accept the markets parameter will accept wildcards  like exchange-* or exchange-*-spot or *USDT-future. The wildcards will match any market which fits this pattern so users do not need to specify every individual market when querying data for multiple markets. "
   ]
  },
  {
   "cell_type": "code",
   "execution_count": 44,
   "id": "108a2045-9091-47a2-add4-6ef1758d4bde",
   "metadata": {},
   "outputs": [],
   "source": [
    "candles_coinbase = client.get_market_candles(\n",
    "    markets=\"coinbase-*-spot\", # wildcards can be passed to get all asset pairs\n",
    "    start_time=\"2022-08-16\",\n",
    "    end_time=\"2022-08-17\",\n",
    "    frequency=\"1d\"\n",
    ").to_dataframe()\n"
   ]
  },
  {
   "cell_type": "code",
   "execution_count": 46,
   "id": "3d67da40-b19a-453f-83f7-f3d8958675dc",
   "metadata": {},
   "outputs": [
    {
     "name": "stdout",
     "output_type": "stream",
     "text": [
      "<class 'pandas.core.frame.DataFrame'>\n",
      "RangeIndex: 1046 entries, 0 to 1045\n",
      "Data columns (total 10 columns):\n",
      " #   Column               Non-Null Count  Dtype              \n",
      "---  ------               --------------  -----              \n",
      " 0   market               1046 non-null   string             \n",
      " 1   time                 1046 non-null   datetime64[ns, UTC]\n",
      " 2   price_open           1046 non-null   Float64            \n",
      " 3   price_close          1046 non-null   Float64            \n",
      " 4   price_high           1046 non-null   Float64            \n",
      " 5   price_low            1046 non-null   Float64            \n",
      " 6   vwap                 1046 non-null   Float64            \n",
      " 7   volume               1046 non-null   Float64            \n",
      " 8   candle_usd_volume    1046 non-null   Float64            \n",
      " 9   candle_trades_count  1046 non-null   Int64              \n",
      "dtypes: Float64(7), Int64(1), datetime64[ns, UTC](1), string(1)\n",
      "memory usage: 90.0 KB\n"
     ]
    }
   ],
   "source": [
    "candles_coinbase.info()"
   ]
  },
  {
   "cell_type": "code",
   "execution_count": 45,
   "id": "4bfcac40-87d8-4458-b8ae-129610abc3ed",
   "metadata": {},
   "outputs": [
    {
     "data": {
      "text/plain": [
       "                    market                      time  price_open  price_close  \\\n",
       "0  coinbase-1inch-btc-spot 2022-08-16 00:00:00+00:00    0.000034     0.000034   \n",
       "1  coinbase-1inch-btc-spot 2022-08-17 00:00:00+00:00    0.000034     0.000033   \n",
       "2  coinbase-1inch-eur-spot 2022-08-16 00:00:00+00:00       0.807        0.805   \n",
       "3  coinbase-1inch-eur-spot 2022-08-17 00:00:00+00:00       0.805        0.755   \n",
       "4  coinbase-1inch-gbp-spot 2022-08-16 00:00:00+00:00       0.679        0.677   \n",
       "\n",
       "   price_high  price_low      vwap    volume  candle_usd_volume  \\\n",
       "0    0.000035   0.000034  0.000034  12601.82       10324.267565   \n",
       "1    0.000035   0.000033  0.000034   6400.08        5251.890725   \n",
       "2        0.82      0.795  0.807773  62791.36       51499.294594   \n",
       "3       0.828      0.752   0.78722  56349.99       45122.160088   \n",
       "4       0.691      0.669  0.680058  16631.32       13651.391996   \n",
       "\n",
       "   candle_trades_count  \n",
       "0                  204  \n",
       "1                  226  \n",
       "2                  475  \n",
       "3                  478  \n",
       "4                   67  "
      ]
     },
     "execution_count": 45,
     "metadata": {},
     "output_type": "execute_result"
    }
   ],
   "source": [
    "candles_coinbase.head()"
   ]
  },
  {
   "cell_type": "markdown",
   "id": "cc545bf3-076f-4247-b38d-fd8c273cdb5e",
   "metadata": {},
   "source": [
    "* **price_open:**   The opening price of the candle.\n",
    "* **price_high:**  The high price of the candle.\n",
    "* **price_low:**  The low price of the candle.\n",
    "* **price_close:** The close price of the candle.\n",
    "* **vwap:**  The volume-weighted average price of the candle.\n",
    "* **volume:** The volume of the candle in units of the base asset.\n",
    "* **candle_usd_volume:** The volume of the candle in units of U.S. dollars. \n",
    "* **candle_trades_count:** The number of trades in the candle interval. "
   ]
  },
  {
   "cell_type": "markdown",
   "id": "b97eb540-d04a-4f81-b977-37573208ad66",
   "metadata": {},
   "source": [
    "### Total Exchange Spot Volume - Exchange Metrics\n",
    "\n",
    "We can retrieve the overall volume on the exchange using our `exchange_metrics` endpoint."
   ]
  },
  {
   "cell_type": "code",
   "execution_count": 17,
   "id": "c880cd9c-cb42-4965-8870-5ff68a35d26b",
   "metadata": {},
   "outputs": [],
   "source": [
    "coinbase_volume = client.get_exchange_metrics(\n",
    "    exchanges=\"coinbase\",\n",
    "    metrics =\"volume_reported_spot_usd_1d\",\n",
    "    start_time=\"2022-08-10\",\n",
    "    end_time=\"2022-08-17\"\n",
    ").to_dataframe()"
   ]
  },
  {
   "cell_type": "code",
   "execution_count": 18,
   "id": "085b4720-a61c-4e12-99d3-408913b15a07",
   "metadata": {},
   "outputs": [
    {
     "data": {
      "text/plain": [
       "   exchange                      time  volume_reported_spot_usd_1d\n",
       "0  coinbase 2022-08-10 00:00:00+00:00             2364732395.45783\n",
       "1  coinbase 2022-08-11 00:00:00+00:00             2388044971.16654\n",
       "2  coinbase 2022-08-12 00:00:00+00:00             1568920157.28374\n",
       "3  coinbase 2022-08-13 00:00:00+00:00             1564683366.92133\n",
       "4  coinbase 2022-08-14 00:00:00+00:00             2093992312.94672\n",
       "5  coinbase 2022-08-15 00:00:00+00:00             2514301745.80601\n",
       "6  coinbase 2022-08-16 00:00:00+00:00             1978781752.31132\n",
       "7  coinbase 2022-08-17 00:00:00+00:00             2353956243.32178"
      ]
     },
     "execution_count": 18,
     "metadata": {},
     "output_type": "execute_result"
    }
   ],
   "source": [
    "coinbase_volume"
   ]
  },
  {
   "cell_type": "markdown",
   "id": "7ff668e4-5979-4d6d-b56e-0320c31f6242",
   "metadata": {},
   "source": [
    "---\n",
    "# Example 3: Spot order book depth\n",
    "---\n",
    "**Fig. 3 - Binance order book depth from State of the Market**    \n",
    "<img src=\"https://5264302.fs1.hubspotusercontent-na1.net/hubfs/5264302/State%20of%20the%20Market%20-%20Chart%20Examples/Binance-Order-Book-Depth.png\" width=900 margin-left=\"auto\" margin-right=\"auto\"/>\n",
    "\n",
    "### Foundational Data Types - Order Book Snapshots\n",
    "\n",
    "Exchange order book data is one of the most foundational data types in the crypto industry— arguably, even more foundational than trades data, as two orders must be matched for a trade to occur. Order book data is useful for various entities, including  market makers, systematic or quantitative traders, and funds studying trade execution patterns.\n",
    "\n",
    "Coin Metrics stores three types of order book snapshots. One type consists of a snapshot of the top 100 bids and top 100 asks taken once every 10 seconds for major markets. The second type consists of a full order book snapshot (every bid and every ask) taken once every hour for all markets. The third is a snapshot where the price is +/-10% of mid-price taken once every 10 seconds. All of these snapshots are served through our */timeseries/market-orderbooks* endpoint."
   ]
  },
  {
   "cell_type": "code",
   "execution_count": 19,
   "id": "5c1821c2-30e5-4ecd-9af3-c0a7c11c5a1f",
   "metadata": {},
   "outputs": [],
   "source": [
    "top100_snapshot = client.get_market_orderbooks(\n",
    "    markets=\"coinbase-btc-usd-spot\",\n",
    "    depth_limit=100, # For full order book depth, pass the parameter \"full_book\". \n",
    "                     # For 10% of depth (where the price is within +/-10 % of mid-price), pass the parameter \"10pct_mid_price\".\n",
    "    limit_per_market=5,\n",
    "    paging_from=\"end\"\n",
    ").to_dataframe()"
   ]
  },
  {
   "cell_type": "code",
   "execution_count": 20,
   "id": "b70f04cb-1a06-4722-9f3e-d553742d35c9",
   "metadata": {},
   "outputs": [
    {
     "data": {
      "text/plain": [
       "                  market                      time     coin_metrics_id  \\\n",
       "0  coinbase-btc-usd-spot 2024-10-25 19:47:40+00:00  1729885660000000-0   \n",
       "1  coinbase-btc-usd-spot 2024-10-25 19:47:50+00:00  1729885670000000-0   \n",
       "2  coinbase-btc-usd-spot 2024-10-25 19:48:00+00:00  1729885680000000-0   \n",
       "3  coinbase-btc-usd-spot 2024-10-25 19:48:10+00:00  1729885690000000-0   \n",
       "4  coinbase-btc-usd-spot 2024-10-25 19:48:20+00:00  1729885700000000-0   \n",
       "\n",
       "                                                asks  \\\n",
       "0  [{'price': '66924.57', 'size': '0.00420518'}, ...   \n",
       "1  [{'price': '66912.05', 'size': '0.08986286'}, ...   \n",
       "2  [{'price': '66894.65', 'size': '0.06726527'}, ...   \n",
       "3  [{'price': '66875.86', 'size': '0.40178901'}, ...   \n",
       "4  [{'price': '66857.83', 'size': '0.00053574'}, ...   \n",
       "\n",
       "                                                bids  \\\n",
       "0  [{'price': '66920.85', 'size': '0.00081'}, {'p...   \n",
       "1  [{'price': '66912.04', 'size': '0.00284986'}, ...   \n",
       "2  [{'price': '66894.64', 'size': '0.00015879'}, ...   \n",
       "3  [{'price': '66875.85', 'size': '0.00015736'}, ...   \n",
       "4  [{'price': '66857.82', 'size': '0.07172'}, {'p...   \n",
       "\n",
       "                     database_time  \n",
       "0 2024-10-25 19:47:40.403698+00:00  \n",
       "1 2024-10-25 19:47:50.354886+00:00  \n",
       "2 2024-10-25 19:48:00.501666+00:00  \n",
       "3 2024-10-25 19:48:10.338177+00:00  \n",
       "4 2024-10-25 19:48:20.357161+00:00  "
      ]
     },
     "execution_count": 20,
     "metadata": {},
     "output_type": "execute_result"
    }
   ],
   "source": [
    "top100_snapshot"
   ]
  },
  {
   "cell_type": "code",
   "execution_count": 21,
   "id": "96cd951b-c60d-4bde-b374-0fa15824c424",
   "metadata": {},
   "outputs": [
    {
     "data": {
      "text/plain": [
       "[{'price': '66920.85', 'size': '0.00081'},\n",
       " {'price': '66918.17', 'size': '0.0001607'},\n",
       " {'price': '66918.16', 'size': '0.15000424'},\n",
       " {'price': '66918.15', 'size': '0.49999905'},\n",
       " {'price': '66917.92', 'size': '0.00001495'},\n",
       " {'price': '66916.15', 'size': '0.00002241'},\n",
       " {'price': '66914.96', 'size': '0.04797143'},\n",
       " {'price': '66914.58', 'size': '0.00001495'},\n",
       " {'price': '66912.31', 'size': '0.1221577'},\n",
       " {'price': '66912.3', 'size': '0.04763478'}]"
      ]
     },
     "execution_count": 21,
     "metadata": {},
     "output_type": "execute_result"
    }
   ],
   "source": [
    "bids = eval(top100_snapshot.bids[0])\n",
    "bids[0:10]"
   ]
  },
  {
   "cell_type": "markdown",
   "id": "0b7a994a-29de-431d-b798-0d4f86b177d2",
   "metadata": {},
   "source": [
    "### Market Quotes - Best Bid & Asks\n",
    "\n",
    "As an added convenience, we also serve the top bid/ask via a separate timeseries/market-quotes endpoint. Quotes are derived from our order book snapshots, so they are available at the same 10s intervals."
   ]
  },
  {
   "cell_type": "code",
   "execution_count": 22,
   "id": "1c253298-873c-47ba-82a6-005302dec16e",
   "metadata": {},
   "outputs": [],
   "source": [
    "btc_quotes = client.get_market_quotes(\n",
    "    markets=\"coinbase-btc-usd-spot\",\n",
    "    limit_per_market=5,\n",
    "    paging_from=\"end\"\n",
    ").to_dataframe()"
   ]
  },
  {
   "cell_type": "code",
   "execution_count": 23,
   "id": "b11f75b4-0ece-4c2d-8dfe-493f9c4ea6e3",
   "metadata": {},
   "outputs": [
    {
     "data": {
      "text/plain": [
       "                  market                      time     coin_metrics_id  \\\n",
       "0  coinbase-btc-usd-spot 2024-10-25 19:47:40+00:00  1729885660000000-0   \n",
       "1  coinbase-btc-usd-spot 2024-10-25 19:47:50+00:00  1729885670000000-0   \n",
       "2  coinbase-btc-usd-spot 2024-10-25 19:48:00+00:00  1729885680000000-0   \n",
       "3  coinbase-btc-usd-spot 2024-10-25 19:48:10+00:00  1729885690000000-0   \n",
       "4  coinbase-btc-usd-spot 2024-10-25 19:48:20+00:00  1729885700000000-0   \n",
       "\n",
       "   ask_price  ask_size  bid_price  bid_size  \n",
       "0   66924.57  0.004205   66920.85   0.00081  \n",
       "1   66912.05  0.089863   66912.04   0.00285  \n",
       "2   66894.65  0.067265   66894.64  0.000159  \n",
       "3   66875.86  0.401789   66875.85  0.000157  \n",
       "4   66857.83  0.000536   66857.82   0.07172  "
      ]
     },
     "execution_count": 23,
     "metadata": {},
     "output_type": "execute_result"
    }
   ],
   "source": [
    "btc_quotes"
   ]
  },
  {
   "cell_type": "markdown",
   "id": "3353b83f-aa26-4652-b4e3-f93afa5f8d86",
   "metadata": {},
   "source": [
    "**Note:** We now also offer *every quote update* via the new Coin Metrics flat file application."
   ]
  },
  {
   "cell_type": "markdown",
   "id": "9bed32f9-6535-43fa-9fcb-29f0b6392fdd",
   "metadata": {},
   "source": [
    "---\n",
    "# Example 4: Futures data types\n",
    "---\n",
    "We offer futures data for 3,000+ markets across top derivatives trading venues such as Binance, CME, FTX, BitMEX, Huobi, Bybit, etc. Supported data types include liquidations, contract prices, open interest, candles, volume, funding rates, and more.\n",
    "\n",
    "**Fig. 4 - Bitcoin and Ethereum futures open interest from State of the Market**    \n",
    "<img src=\"https://5264302.fs1.hubspotusercontent-na1.net/hubfs/5264302/State%20of%20the%20Market%20-%20Chart%20Examples/BTC-ETH-open-interest.png\" width=550 margin-left=\"auto\" margin-right=\"auto\"/>\n",
    "\n"
   ]
  },
  {
   "cell_type": "markdown",
   "id": "23ec2829-7a68-43ee-924e-c531c4344476",
   "metadata": {},
   "source": [
    "### Market Open Interest - Total Contracts Outstanding\n",
    "Open interest represents the number of contracts that are currently outstanding and not settled for a specific derivatives market. "
   ]
  },
  {
   "cell_type": "code",
   "execution_count": 24,
   "id": "d4fe79f5-80f7-49ec-9bf9-5dd03c695745",
   "metadata": {},
   "outputs": [],
   "source": [
    "oi_btc_perp = client.get_market_open_interest(\n",
    "    markets=\"binance-BTCUSD_PERP-future\",\n",
    "    end_time=\"2022-08-17\",\n",
    "    limit_per_market=5,\n",
    "    paging_from=\"end\"\n",
    ").to_dataframe()"
   ]
  },
  {
   "cell_type": "code",
   "execution_count": 25,
   "id": "84d47de1-6339-4ac8-b228-bf5128325074",
   "metadata": {},
   "outputs": [
    {
     "data": {
      "text/plain": [
       "                       market                      time  contract_count  \\\n",
       "0  binance-BTCUSD_PERP-future 2022-08-17 23:55:00+00:00         3982211   \n",
       "1  binance-BTCUSD_PERP-future 2022-08-17 23:56:00+00:00         3981078   \n",
       "2  binance-BTCUSD_PERP-future 2022-08-17 23:57:00+00:00         3979201   \n",
       "3  binance-BTCUSD_PERP-future 2022-08-17 23:58:00+00:00         3979191   \n",
       "4  binance-BTCUSD_PERP-future 2022-08-17 23:59:00+00:00         3979133   \n",
       "\n",
       "   value_usd                    database_time             exchange_time  \n",
       "0  398221100 2022-08-17 23:55:11.890405+00:00 2022-08-17 23:55:00+00:00  \n",
       "1  398107800 2022-08-17 23:56:30.226528+00:00 2022-08-17 23:56:00+00:00  \n",
       "2  397920100 2022-08-17 23:57:08.240922+00:00 2022-08-17 23:57:00+00:00  \n",
       "3  397919100 2022-08-17 23:58:18.250239+00:00 2022-08-17 23:58:00+00:00  \n",
       "4  397913300 2022-08-17 23:59:07.291820+00:00 2022-08-17 23:59:00+00:00  "
      ]
     },
     "execution_count": 25,
     "metadata": {},
     "output_type": "execute_result"
    }
   ],
   "source": [
    "oi_btc_perp"
   ]
  },
  {
   "cell_type": "markdown",
   "id": "1829145d-d771-45ee-9ba4-f6d8997ee497",
   "metadata": {},
   "source": [
    "### Aggregated Open Interest - Daily by Asset & Contract Type"
   ]
  },
  {
   "cell_type": "markdown",
   "id": "e085b665-d090-42bc-b645-d3c3a8ac6691",
   "metadata": {},
   "source": [
    "In addition to querying open interest for specific markets/contracts, the `get_asset_metrics` endpoint can also be used to retrieve aggregated open interest. Our reported future open interest metric is an aggregation of the reported future open interest from all futures exchanges in CM\"s coverage universe.\n",
    "\n",
    "We offer aggregated futures open interest for the following futures contract types:\n",
    "- Reported Future Open Interest\n",
    "- Reported Perpetual Future Open Interest\n",
    "- Reported Non-Perpetual Future Open Interest\n",
    "- Reported Coin-Margined Future Open Interest\n",
    "- Reported Tether-Margined Future Open Interest"
   ]
  },
  {
   "cell_type": "code",
   "execution_count": 26,
   "id": "e5f7acd4-d5d0-4914-89eb-7cd8c4db70d5",
   "metadata": {},
   "outputs": [],
   "source": [
    "oi_btc_eth = client.get_asset_metrics(\n",
    "    assets=\"btc,eth\",\n",
    "    metrics=\"open_interest_reported_future_usd,open_interest_reported_future_nonperpetual_usd,open_interest_reported_future_perpetual_usd\",\n",
    "    frequency=\"1d\",\n",
    "    limit_per_asset=3,\n",
    "    paging_from=\"end\"\n",
    ").to_dataframe()"
   ]
  },
  {
   "cell_type": "code",
   "execution_count": 27,
   "id": "df13062a-e04e-4323-9f41-1ab78a222a2d",
   "metadata": {},
   "outputs": [
    {
     "data": {
      "text/plain": [
       "  asset                      time  \\\n",
       "0   btc 2024-10-23 00:00:00+00:00   \n",
       "1   btc 2024-10-24 00:00:00+00:00   \n",
       "2   btc 2024-10-25 00:00:00+00:00   \n",
       "3   eth 2024-10-23 00:00:00+00:00   \n",
       "4   eth 2024-10-24 00:00:00+00:00   \n",
       "5   eth 2024-10-25 00:00:00+00:00   \n",
       "\n",
       "   open_interest_reported_future_nonperpetual_usd  \\\n",
       "0                                13923479711.9669   \n",
       "1                              13453533211.895201   \n",
       "2                                13392581425.7694   \n",
       "3                                1535153876.09309   \n",
       "4                                1473483638.19916   \n",
       "5                                1451292649.13502   \n",
       "\n",
       "   open_interest_reported_future_perpetual_usd  \\\n",
       "0                           19982575374.762501   \n",
       "1                           19754715551.441399   \n",
       "2                           20179456440.591499   \n",
       "3                             9517890065.12204   \n",
       "4                            9292600168.441351   \n",
       "5                            9313906648.995859   \n",
       "\n",
       "   open_interest_reported_future_usd  \n",
       "0                 33906055086.729401  \n",
       "1                 33208248763.336601  \n",
       "2                 33572037866.360901  \n",
       "3                 11053043941.215099  \n",
       "4                 10766083806.640499  \n",
       "5                 10765199298.130899  "
      ]
     },
     "execution_count": 27,
     "metadata": {},
     "output_type": "execute_result"
    }
   ],
   "source": [
    "oi_btc_eth"
   ]
  },
  {
   "cell_type": "markdown",
   "id": "3635bf89-a653-4c85-b172-18dc2dba0c39",
   "metadata": {},
   "source": [
    "### Perpetual Futures Funding Rates\n",
    "Funding rates are a mechanism that exchanges use to ensure that perpetual futures trade at a price that is close to the price of the underlying spot markets. The funding rate is used to calculate the funding fee which long position holders pay short position holders, or vice versa, as a way to incentivize market participants to take positions that keep perpetual futures prices close to the underlying. "
   ]
  },
  {
   "cell_type": "code",
   "execution_count": 28,
   "id": "731dbe43-6a08-4a83-8176-21f2dbbf5e33",
   "metadata": {},
   "outputs": [],
   "source": [
    "funding_btc_perp = client.get_market_funding_rates(\n",
    "    markets=\"binance-BTCUSD_PERP-future\",\n",
    "    end_time=\"2022-08-17\",\n",
    "    limit_per_market=5\n",
    ").to_dataframe()"
   ]
  },
  {
   "cell_type": "code",
   "execution_count": 29,
   "id": "d6abd166-d69b-4b2b-a500-933a872f37f8",
   "metadata": {},
   "outputs": [
    {
     "data": {
      "text/plain": [
       "                       market                             time  \\\n",
       "0  binance-BTCUSD_PERP-future        2020-08-10 16:00:00+00:00   \n",
       "1  binance-BTCUSD_PERP-future        2020-08-11 00:00:00+00:00   \n",
       "2  binance-BTCUSD_PERP-future 2020-08-11 08:00:00.008000+00:00   \n",
       "3  binance-BTCUSD_PERP-future        2020-08-11 16:00:00+00:00   \n",
       "4  binance-BTCUSD_PERP-future        2020-08-12 00:00:00+00:00   \n",
       "\n",
       "                     database_time    rate    period  interval  \n",
       "0 2020-12-02 10:49:37.530167+00:00  0.0001  08:00:00  08:00:00  \n",
       "1 2020-12-02 10:49:37.530167+00:00  0.0001  08:00:00  08:00:00  \n",
       "2 2020-12-02 10:49:37.530167+00:00  0.0001  08:00:00  08:00:00  \n",
       "3 2020-12-02 10:49:37.530167+00:00  0.0001  08:00:00  08:00:00  \n",
       "4 2020-12-02 10:49:37.530167+00:00  0.0001  08:00:00  08:00:00  "
      ]
     },
     "execution_count": 29,
     "metadata": {},
     "output_type": "execute_result"
    }
   ],
   "source": [
    "funding_btc_perp"
   ]
  },
  {
   "cell_type": "markdown",
   "id": "2eaccd2f-0823-4dc3-9a87-a7b6501ac81c",
   "metadata": {},
   "source": [
    "**Fig. 5 - Bitcoin perpetual futures funding rates from State of the Market**    \n",
    "<img src=\"https://5264302.fs1.hubspotusercontent-na1.net/hubfs/5264302/State%20of%20the%20Market%20-%20Chart%20Examples/BTC-perp-funding-rates.png\" width=850 margin-left=\"auto\" margin-right=\"auto\"/>"
   ]
  },
  {
   "cell_type": "markdown",
   "id": "e75bd570-7ae2-460c-aeed-9d78388bc4ad",
   "metadata": {},
   "source": [
    "### Futures Basis Metrics - Aggregated by Exchange-Asset\n",
    "The basis is the annualized percent difference between the price of a theoretical futures contract and the price of its underlying spot market. Coin Metrics calculates this for several exchange-assets such as `binance-btc` and `ftx-eth`. We calculate four basis metrics at defined days to expiration: 30 day, 60 day, 90 day, and 120 day."
   ]
  },
  {
   "cell_type": "code",
   "execution_count": 30,
   "id": "382ec079-e6ea-42ee-934c-bc1627c4d487",
   "metadata": {},
   "outputs": [],
   "source": [
    "basis_binance = client.get_exchange_asset_metrics(\n",
    "    exchange_assets=\"binance-btc\", \n",
    "    metrics=\"basis_annualized_30d_exp,basis_annualized_60d_exp,basis_annualized_90d_exp\"\n",
    ").to_dataframe()"
   ]
  },
  {
   "cell_type": "code",
   "execution_count": 31,
   "id": "62e9fc1a-b9c1-466a-bc9a-c64c0be759cb",
   "metadata": {},
   "outputs": [
    {
     "data": {
      "text/plain": [
       "     exchange_asset                      time  basis_annualized_30d_exp  \\\n",
       "1592    binance-btc 2024-10-21 00:00:00+00:00                  0.104488   \n",
       "1593    binance-btc 2024-10-22 00:00:00+00:00                  0.095617   \n",
       "1594    binance-btc 2024-10-23 00:00:00+00:00                  0.103859   \n",
       "1595    binance-btc 2024-10-24 00:00:00+00:00                  0.103878   \n",
       "1596    binance-btc 2024-10-25 00:00:00+00:00                  0.108495   \n",
       "\n",
       "      basis_annualized_60d_exp  basis_annualized_90d_exp  \n",
       "1592                  0.104552                  0.098069  \n",
       "1593                  0.095675                  0.092418  \n",
       "1594                  0.103922                  0.096754  \n",
       "1595                  0.103941                  0.100998  \n",
       "1596                  0.108561                  0.102192  "
      ]
     },
     "execution_count": 31,
     "metadata": {},
     "output_type": "execute_result"
    }
   ],
   "source": [
    "basis_binance.tail()"
   ]
  },
  {
   "cell_type": "markdown",
   "id": "eeb276eb-fab9-4911-99ea-bff0839f27a8",
   "metadata": {},
   "source": [
    "**Fig. 6 - Bitcoin futures basis from State of the Market**    \n",
    "<img src=\"https://5264302.fs1.hubspotusercontent-na1.net/hubfs/5264302/State%20of%20the%20Market%20-%20Chart%20Examples/Futures-Basis.png\" width=550 margin-left=\"auto\" margin-right=\"auto\"/>"
   ]
  },
  {
   "cell_type": "markdown",
   "id": "5030f4ba-a583-4f18-abc1-5122a9505b31",
   "metadata": {},
   "source": [
    "### Futures Liquidations - Individual Orders/Trades\n",
    "Exchanges which offer futures markets utilize a risk management system that will attempt to close a user’s position before the point at which the user begins to owe more than what is in the user\"s account. The trade or order that closes the user\"s position is referred to as a liquidation. "
   ]
  },
  {
   "cell_type": "markdown",
   "id": "293b1198-d401-4604-a328-9bd51f7902b8",
   "metadata": {},
   "source": [
    "- Some exchanges report **liquidations orders** in which they will report the creation of a liquidation order when a trader’s position initially enters liquidation. When a trader’s position enters liquidation, an exchange will typically enter a limit order at the trader\"s bankruptcy price. The order will show the amount of the position that is being liquidated and the liquidation price, but will not represent the matched trades that are executed as a result of the liquidation. \n",
    "- Other exchanges will report **liquidation trades** which represent the actual matched trades as a result of a liquidation order but will not report liquidation orders. \n",
    "- Some exchanges will report both liquidation orders and liquidation trades."
   ]
  },
  {
   "cell_type": "code",
   "execution_count": 32,
   "id": "d1e1feb6-7b2b-4403-8c42-da7f2ac7bc6d",
   "metadata": {},
   "outputs": [],
   "source": [
    "mkt_liqs_binance = client.get_market_liquidations(\n",
    "    markets=\"binance-BTCUSDT-future\", \n",
    "    limit_per_market=3\n",
    ").to_dataframe()"
   ]
  },
  {
   "cell_type": "code",
   "execution_count": 33,
   "id": "3d5e97f7-7915-4822-9c80-f1f64ab903f4",
   "metadata": {},
   "outputs": [
    {
     "data": {
      "text/plain": [
       "                   market                             time  \\\n",
       "0  binance-BTCUSDT-future 2019-09-10 19:36:50.009000+00:00   \n",
       "1  binance-BTCUSDT-future 2019-09-10 19:38:06.010000+00:00   \n",
       "2  binance-BTCUSDT-future 2019-09-11 06:51:13.010000+00:00   \n",
       "\n",
       "       coin_metrics_id  amount     price   type  \\\n",
       "0  1568144210009000000   0.199  10013.89  trade   \n",
       "1  1568144286010000000    0.04   9952.16  trade   \n",
       "2  1568184673010000000    0.04   9944.65  trade   \n",
       "\n",
       "                     database_time  side  \n",
       "0 2020-10-08 06:03:35.854962+00:00  sell  \n",
       "1 2020-10-08 06:03:35.854962+00:00  sell  \n",
       "2 2020-10-08 06:03:35.854962+00:00  sell  "
      ]
     },
     "execution_count": 33,
     "metadata": {},
     "output_type": "execute_result"
    }
   ],
   "source": [
    "mkt_liqs_binance.head()"
   ]
  },
  {
   "cell_type": "markdown",
   "id": "f229ae3d-95a1-48de-84d6-f7de13ef5bf1",
   "metadata": {},
   "source": [
    "### Futures Liquidations - Aggregated Daily or Hourly\n"
   ]
  },
  {
   "cell_type": "code",
   "execution_count": 34,
   "id": "f545d6df-899c-430a-a911-a68868456168",
   "metadata": {},
   "outputs": [],
   "source": [
    "liqs_binance = client.get_market_metrics(\n",
    "    markets=\"binance-BTCUSDT-future\", \n",
    "    metrics=\"liquidations_reported_future_buy_usd_1d\"\n",
    ").to_dataframe()"
   ]
  },
  {
   "cell_type": "code",
   "execution_count": 35,
   "id": "7c67c7d1-bc6a-49d1-bb87-df73dcaabd8a",
   "metadata": {},
   "outputs": [
    {
     "data": {
      "text/plain": [
       "                   market                      time  \\\n",
       "0  binance-BTCUSDT-future 2019-09-12 00:00:00+00:00   \n",
       "1  binance-BTCUSDT-future 2019-09-19 00:00:00+00:00   \n",
       "2  binance-BTCUSDT-future 2019-09-20 00:00:00+00:00   \n",
       "3  binance-BTCUSDT-future 2019-09-21 00:00:00+00:00   \n",
       "4  binance-BTCUSDT-future 2019-09-23 00:00:00+00:00   \n",
       "\n",
       "   liquidations_reported_future_buy_usd_1d  \n",
       "0                                 114.5749  \n",
       "1                             268916.41422  \n",
       "2                              18519.28155  \n",
       "3                                  8795.16  \n",
       "4                              62820.22767  "
      ]
     },
     "execution_count": 35,
     "metadata": {},
     "output_type": "execute_result"
    }
   ],
   "source": [
    "liqs_binance.head()"
   ]
  },
  {
   "cell_type": "markdown",
   "id": "05d99023-c599-459c-b6e2-166bfeb9456d",
   "metadata": {},
   "source": [
    "**Fig. 7 - Bitcoin perpetual futures liquidations from State of the Market**    \n",
    "<img src=\"https://5264302.fs1.hubspotusercontent-na1.net/hubfs/5264302/State%20of%20the%20Market%20-%20Chart%20Examples/BTC-Perp-Liquidations.png\" width=450 margin-left=\"auto\" margin-right=\"auto\"/>"
   ]
  },
  {
   "cell_type": "markdown",
   "id": "7b03bb50-67c2-45b9-b674-2859a549d952",
   "metadata": {},
   "source": [
    "---\n",
    "# Example 5: Options data types\n",
    "---\n",
    "\n",
    "We offer options data from two of the most liquid options trading venues, Deribit and OKX. Supported data types include implied volatility, trades, open interest, contract prices, contract specifications, quotes, and greeks. We recently expanded our options coverage to include several new data types from Deribit and added several new API endpoints to serve this data."
   ]
  },
  {
   "cell_type": "markdown",
   "id": "f6cb12df-dfd3-47d0-bee7-d4aa12882ff8",
   "metadata": {},
   "source": [
    "### Options Contracts - Implied Volatility"
   ]
  },
  {
   "cell_type": "code",
   "execution_count": 36,
   "id": "8ac36c74-f9a5-4f08-a4b1-c80e8d2f8712",
   "metadata": {},
   "outputs": [],
   "source": [
    "iv_deribit = client.get_market_implied_volatility(\n",
    "    markets=\"deribit-BTC-18AUG22-*-option\", \n",
    "    end_time=\"2022-08-17\",\n",
    "    limit_per_market=1\n",
    ").to_dataframe()"
   ]
  },
  {
   "cell_type": "code",
   "execution_count": 37,
   "id": "d58411a6-9596-4fdf-9f2c-b8ec3c6a94c9",
   "metadata": {},
   "outputs": [
    {
     "data": {
      "text/plain": [
       "                               market                      time  \\\n",
       "0  deribit-BTC-18AUG22-19000-C-option 2022-08-16 08:04:00+00:00   \n",
       "1  deribit-BTC-18AUG22-19000-P-option 2022-08-16 08:04:00+00:00   \n",
       "2  deribit-BTC-18AUG22-20000-C-option 2022-08-16 08:04:00+00:00   \n",
       "3  deribit-BTC-18AUG22-20000-P-option 2022-08-16 08:04:00+00:00   \n",
       "4  deribit-BTC-18AUG22-21000-C-option 2022-08-16 08:04:00+00:00   \n",
       "\n",
       "                     database_time  iv_bid  iv_ask  iv_mark  \\\n",
       "0 2022-08-16 08:04:59.435418+00:00     0.0     0.0      1.0   \n",
       "1 2022-08-16 08:04:58.430009+00:00     0.0  2.5561      1.0   \n",
       "2 2022-08-16 08:04:57.429870+00:00     0.0     0.0      1.0   \n",
       "3 2022-08-16 08:04:58.430009+00:00     0.0  2.0536      1.0   \n",
       "4 2022-08-16 08:04:58.430009+00:00     0.0     0.0      1.0   \n",
       "\n",
       "                     exchange_time  \n",
       "0 2022-08-16 08:04:58.622000+00:00  \n",
       "1 2022-08-16 08:04:57.613000+00:00  \n",
       "2 2022-08-16 08:04:56.605000+00:00  \n",
       "3 2022-08-16 08:04:57.612000+00:00  \n",
       "4 2022-08-16 08:04:57.620000+00:00  "
      ]
     },
     "execution_count": 37,
     "metadata": {},
     "output_type": "execute_result"
    }
   ],
   "source": [
    "iv_deribit.head()"
   ]
  },
  {
   "cell_type": "markdown",
   "id": "ac9a3be9-0a23-4b90-b784-8913aaa0ef5c",
   "metadata": {},
   "source": [
    "**Fig. 8 - Bitcoin \"Volatility Smile\" from State of the Market**    \n",
    "<img src=\"https://5264302.fs1.hubspotusercontent-na1.net/hubfs/5264302/State%20of%20the%20Market%20-%20Chart%20Examples/BTC-IV-vs-StrikePrice.png\" width=800 margin-left=\"auto\" margin-right=\"auto\"/>"
   ]
  },
  {
   "cell_type": "markdown",
   "id": "42dd9e0b-3e06-46a7-9bb0-3c789e1abbc2",
   "metadata": {},
   "source": [
    "### Options Contracts - Market Greeks"
   ]
  },
  {
   "cell_type": "code",
   "execution_count": 38,
   "id": "56f03530-0b83-4faa-8d1c-3e605566733d",
   "metadata": {},
   "outputs": [],
   "source": [
    "greeks_deribit = client.get_market_greeks(\n",
    "    markets=\"deribit-BTC-18AUG22-*-option\", \n",
    "    end_time=\"2022-08-17\",\n",
    "    limit_per_market=1\n",
    ").to_dataframe()"
   ]
  },
  {
   "cell_type": "code",
   "execution_count": 39,
   "id": "1703c496-08d0-4f8d-8a6d-49a99f8eaeec",
   "metadata": {},
   "outputs": [
    {
     "data": {
      "text/plain": [
       "                               market                      time  \\\n",
       "0  deribit-BTC-18AUG22-19000-C-option 2022-08-16 08:04:00+00:00   \n",
       "1  deribit-BTC-18AUG22-19000-P-option 2022-08-16 08:04:00+00:00   \n",
       "2  deribit-BTC-18AUG22-20000-C-option 2022-08-16 08:04:00+00:00   \n",
       "3  deribit-BTC-18AUG22-20000-P-option 2022-08-16 08:04:00+00:00   \n",
       "4  deribit-BTC-18AUG22-21000-C-option 2022-08-16 08:04:00+00:00   \n",
       "\n",
       "                     database_time     vega     theta      rho    delta  \\\n",
       "0 2022-08-16 08:04:59.435418+00:00  0.03878  -0.97127  1.03845  0.99938   \n",
       "1 2022-08-16 08:04:58.430009+00:00  0.03875  -0.30251 -0.00084 -0.00062   \n",
       "2 2022-08-16 08:04:57.429870+00:00    0.287  -7.18741  1.08637  0.99435   \n",
       "3 2022-08-16 08:04:58.430009+00:00  0.28587  -3.27365 -0.00759 -0.00563   \n",
       "4 2022-08-16 08:04:58.430009+00:00  1.22414 -30.65678   1.1075   0.9696   \n",
       "\n",
       "     gamma                    exchange_time  \n",
       "0      0.0 2022-08-16 08:04:58.622000+00:00  \n",
       "1      0.0 2022-08-16 08:04:57.613000+00:00  \n",
       "2  0.00001 2022-08-16 08:04:56.605000+00:00  \n",
       "3  0.00001 2022-08-16 08:04:57.612000+00:00  \n",
       "4  0.00004 2022-08-16 08:04:57.620000+00:00  "
      ]
     },
     "execution_count": 39,
     "metadata": {},
     "output_type": "execute_result"
    }
   ],
   "source": [
    "greeks_deribit.head()"
   ]
  },
  {
   "cell_type": "markdown",
   "id": "faced29c-a3cd-455d-b531-5da1b0f0ea93",
   "metadata": {},
   "source": [
    "**Fig. 9 - Option Chain from State of the Market**    \n",
    "<img src=\"https://5264302.fs1.hubspotusercontent-na1.net/hubfs/5264302/State%20of%20the%20Market%20-%20Chart%20Examples/Option-Chain.png\" width=800 margin-left=\"auto\" margin-right=\"auto\"/>"
   ]
  },
  {
   "cell_type": "markdown",
   "id": "b2d31d25-cf7e-4daa-8826-de0e3a5ed5ec",
   "metadata": {},
   "source": [
    "### Options Contracts - Market Quotes"
   ]
  },
  {
   "cell_type": "code",
   "execution_count": 40,
   "id": "9b914f69-f310-498e-a9d6-e55d5d2c4f70",
   "metadata": {},
   "outputs": [],
   "source": [
    "quotes_deribit = client.get_market_quotes(\n",
    "    markets=\"deribit-BTC-18AUG22-*-option\", \n",
    "    end_time=\"2022-08-17\",\n",
    "    limit_per_market=3\n",
    ").to_dataframe()"
   ]
  },
  {
   "cell_type": "code",
   "execution_count": 41,
   "id": "04bb2197-acbd-47b1-a25c-558b7bfdc090",
   "metadata": {},
   "outputs": [
    {
     "data": {
      "text/plain": [
       "                               market                      time  \\\n",
       "0  deribit-BTC-18AUG22-19000-C-option 2022-08-16 08:04:00+00:00   \n",
       "1  deribit-BTC-18AUG22-19000-C-option 2022-08-16 08:05:00+00:00   \n",
       "2  deribit-BTC-18AUG22-19000-C-option 2022-08-16 08:06:00+00:00   \n",
       "3  deribit-BTC-18AUG22-19000-P-option 2022-08-16 08:04:00+00:00   \n",
       "4  deribit-BTC-18AUG22-19000-P-option 2022-08-16 08:05:00+00:00   \n",
       "\n",
       "      coin_metrics_id  ask_price  ask_size  bid_price  bid_size  \n",
       "0  1660637040000000-0        0.0       0.0        0.0       0.0  \n",
       "1  1660637100000000-0        0.0       0.0        0.0       0.0  \n",
       "2  1660637160000000-0        0.0       0.0        0.0       0.0  \n",
       "3  1660637040000000-0        0.1    0.0085        0.0       0.0  \n",
       "4  1660637100000000-0       10.0    0.0005        0.0       0.0  "
      ]
     },
     "execution_count": 41,
     "metadata": {},
     "output_type": "execute_result"
    }
   ],
   "source": [
    "quotes_deribit.head()"
   ]
  },
  {
   "cell_type": "markdown",
   "id": "4d1b4a5c-3990-4f36-8901-f37d99fd8466",
   "metadata": {},
   "source": [
    "### Options Contracts - Market Open Interest"
   ]
  },
  {
   "cell_type": "code",
   "execution_count": 42,
   "id": "f0de3527-894a-4d8e-9325-62080b8bba4a",
   "metadata": {},
   "outputs": [],
   "source": [
    "oi_deribit = client.get_market_open_interest(\n",
    "    markets=\"deribit-BTC-30DEC22-*-option\", \n",
    "    paging_from=\"end\",\n",
    "    limit_per_market=1\n",
    ").to_dataframe()"
   ]
  },
  {
   "cell_type": "code",
   "execution_count": 43,
   "id": "2515a88c-0f13-4c0e-9db4-cc713d1a8569",
   "metadata": {},
   "outputs": [
    {
     "data": {
      "text/plain": [
       "                                market                      time  \\\n",
       "62  deribit-BTC-30DEC22-35000-C-option 2022-12-30 07:59:00+00:00   \n",
       "7   deribit-BTC-30DEC22-12000-P-option 2022-12-30 07:59:00+00:00   \n",
       "15  deribit-BTC-30DEC22-15000-P-option 2022-12-30 07:59:00+00:00   \n",
       "1   deribit-BTC-30DEC22-10000-P-option 2022-12-30 07:59:00+00:00   \n",
       "54  deribit-BTC-30DEC22-30000-C-option 2022-12-30 07:59:00+00:00   \n",
       "\n",
       "    contract_count      value_usd                    database_time  \\\n",
       "62          6564.4    108156695.5 2022-12-30 07:59:11.450250+00:00   \n",
       "7           6609.7  108902937.431 2022-12-30 07:59:21.456460+00:00   \n",
       "15          6873.1  113242845.144 2022-12-30 07:59:12.451403+00:00   \n",
       "1           7731.2  127381029.376 2022-12-30 07:59:21.456460+00:00   \n",
       "54          7836.8  129120997.632 2022-12-30 07:59:17.454662+00:00   \n",
       "\n",
       "               exchange_time  \n",
       "62 2022-12-30 07:59:00+00:00  \n",
       "7  2022-12-30 07:59:00+00:00  \n",
       "15 2022-12-30 07:59:00+00:00  \n",
       "1  2022-12-30 07:59:00+00:00  \n",
       "54 2022-12-30 07:59:00+00:00  "
      ]
     },
     "execution_count": 43,
     "metadata": {},
     "output_type": "execute_result"
    }
   ],
   "source": [
    "oi_deribit.sort_values(\"value_usd\").tail()"
   ]
  },
  {
   "cell_type": "markdown",
   "id": "55524463-91e1-4696-a8c9-4a409ec67742",
   "metadata": {},
   "source": [
    "**Fig. 10 - Option Open Interest from State of the Market**    \n",
    "<img src=\"https://5264302.fs1.hubspotusercontent-na1.net/hubfs/5264302/State%20of%20the%20Market%20-%20Chart%20Examples/Options-OI.png\" width=800 margin-left=\"auto\" margin-right=\"auto\"/>"
   ]
  },
  {
   "cell_type": "code",
   "execution_count": null,
   "id": "dc72e013-83ef-434e-9062-d13118238a04",
   "metadata": {},
   "outputs": [],
   "source": []
  }
 ],
 "metadata": {
  "kernelspec": {
   "display_name": "Python 3 (ipykernel)",
   "language": "python",
   "name": "python3"
  },
  "language_info": {
   "codemirror_mode": {
    "name": "ipython",
    "version": 3
   },
   "file_extension": ".py",
   "mimetype": "text/x-python",
   "name": "python",
   "nbconvert_exporter": "python",
   "pygments_lexer": "ipython3",
   "version": "3.8.8"
  }
 },
 "nbformat": 4,
 "nbformat_minor": 5
}
