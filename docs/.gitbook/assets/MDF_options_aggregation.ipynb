{
 "cells": [
  {
   "cell_type": "markdown",
   "id": "8b4405f3-ff20-45fc-b83b-8ab976285d28",
   "metadata": {},
   "source": [
    "# Coin Metrics Options Data Aggregation\n",
    "\n",
    "This notebook demonstrates basic functionality offered by the Coin Metrics Python API Client and Market Data Feed.\n",
    "\n",
    "Coin Metrics offers a vast assortment of data for hundreds of cryptoassets. The Python API Client allows for easy access to this data using Python without needing to create your own wrappers using `requests` and other such libraries.\n",
    "\n",
    "## Resources\n",
    "To understand the data that Coin Metrics offers, feel free to peruse the resources below.\n",
    "\n",
    "- The [Coin Metrics API v4](https://docs.coinmetrics.io/api/v4) website contains the full set of endpoints and data offered by Coin Metrics.\n",
    "- The [Coin Metrics Product Documentation](https://docs.coinmetrics.io/info) gives detailed, conceptual explanations of the data that Coin Metrics offers.\n",
    "- The [API Spec](https://coinmetrics.github.io/api-client-python/site/api_client.html) contains a full list of functions."
   ]
  },
  {
   "cell_type": "markdown",
   "id": "16c3476d-c33a-421e-811e-344b59735ec0",
   "metadata": {},
   "source": [
    "## Notebook Setup"
   ]
  },
  {
   "cell_type": "code",
   "execution_count": 1,
   "id": "7fbd2927-9184-41fd-8403-b259146ee1a2",
   "metadata": {
    "ExecuteTime": {
     "end_time": "2022-11-16T14:57:24.591193Z",
     "start_time": "2022-11-16T14:57:23.980726Z"
    },
    "tags": []
   },
   "outputs": [],
   "source": [
    "import os\n",
    "from os import environ\n",
    "import sys\n",
    "import pandas as pd\n",
    "import numpy as np\n",
    "import seaborn as sns\n",
    "import logging\n",
    "from datetime import date, datetime, timedelta\n",
    "from coinmetrics.api_client import CoinMetricsClient\n",
    "import json\n",
    "import logging\n",
    "from datetime import timezone as timezone_info\n",
    "import matplotlib.ticker as mticker\n",
    "from matplotlib.ticker import ScalarFormatter\n",
    "import matplotlib.pyplot as plt\n",
    "import matplotlib.dates as mdates\n",
    "%matplotlib inline\n",
    "from plotly import graph_objects as go"
   ]
  },
  {
   "cell_type": "code",
   "execution_count": 2,
   "id": "6ab06f8c-e7f4-41b4-b92e-18a3de36a427",
   "metadata": {
    "ExecuteTime": {
     "end_time": "2022-11-16T14:57:24.598125Z",
     "start_time": "2022-11-16T14:57:24.593576Z"
    },
    "tags": []
   },
   "outputs": [],
   "source": [
    "sns.set_theme()\n",
    "sns.set(rc={'figure.figsize':(14,8)})\n",
    "sns.set_style(\"whitegrid\",{'axes.grid' : True,'grid.linestyle': '--', 'grid.color': 'gray','axes.edgecolor': 'white'})"
   ]
  },
  {
   "cell_type": "code",
   "execution_count": 3,
   "id": "abc14b24-03f4-457c-94aa-0c33ff01c79b",
   "metadata": {
    "ExecuteTime": {
     "end_time": "2022-11-16T14:57:24.608563Z",
     "start_time": "2022-11-16T14:57:24.599825Z"
    },
    "tags": []
   },
   "outputs": [],
   "source": [
    "logging.basicConfig(\n",
    "    format='%(asctime)s %(levelname)-8s %(message)s',\n",
    "    level=logging.INFO,\n",
    "    datefmt='%Y-%m-%d %H:%M:%S'\n",
    ")"
   ]
  },
  {
   "cell_type": "code",
   "execution_count": 4,
   "id": "ecbe22c4-ee5a-4130-bc7f-9bf9a61b4bc1",
   "metadata": {
    "ExecuteTime": {
     "end_time": "2022-11-16T14:57:24.618734Z",
     "start_time": "2022-11-16T14:57:24.610018Z"
    },
    "tags": []
   },
   "outputs": [
    {
     "name": "stderr",
     "output_type": "stream",
     "text": [
      "2024-09-11 13:31:07 INFO     Using API key found in environment\n"
     ]
    }
   ],
   "source": [
    "# We recommend privately storing your API key in your local environment.\n",
    "try:\n",
    "    api_key = environ[\"CM_API_KEY\"]\n",
    "    logging.info(\"Using API key found in environment\")\n",
    "except KeyError:\n",
    "    api_key = \"\"\n",
    "    logging.info(\"API key not found. Using community client\")\n",
    "\n",
    "client = CoinMetricsClient(api_key)"
   ]
  },
  {
   "cell_type": "markdown",
   "id": "1547e1da-58b8-443c-9891-ea197cb0fbf1",
   "metadata": {},
   "source": [
    "### Set start and end time"
   ]
  },
  {
   "cell_type": "code",
   "execution_count": 5,
   "id": "c937993f-7db3-4387-a68a-7cd5d905f11c",
   "metadata": {
    "ExecuteTime": {
     "end_time": "2022-11-16T14:57:24.628090Z",
     "start_time": "2022-11-16T14:57:24.620118Z"
    }
   },
   "outputs": [],
   "source": [
    "end = datetime.utcnow()\n",
    "start = '2024-09-01'\n",
    "end = '2024-09-08'\n",
    "asset = 'eth'"
   ]
  },
  {
   "cell_type": "markdown",
   "id": "a6aadff2-e4fd-4d28-b9b0-b479031b91b3",
   "metadata": {},
   "source": [
    "## OPTIONS CATALOG"
   ]
  },
  {
   "cell_type": "markdown",
   "id": "b170944b-caa1-44c1-973f-fc9790147aa8",
   "metadata": {},
   "source": [
    "To simplify some of the complexity around options contract size, we will investigate only options markets on Deribit, the largest options exchange by volume."
   ]
  },
  {
   "cell_type": "code",
   "execution_count": 6,
   "id": "261c7729-d184-42f9-a759-d6c04e77b9cb",
   "metadata": {
    "ExecuteTime": {
     "end_time": "2022-11-16T14:57:25.901909Z",
     "start_time": "2022-11-16T14:57:24.629497Z"
    }
   },
   "outputs": [],
   "source": [
    "asset_options = client.reference_data_markets(\n",
    "    type='option',\n",
    "    exchange='deribit',\n",
    "    base='eth',\n",
    "    quote='usd',\n",
    "    page_size=10000\n",
    ").to_list()"
   ]
  },
  {
   "cell_type": "code",
   "execution_count": 7,
   "id": "fecf2988-993e-4559-81c0-c1f3f82fb929",
   "metadata": {
    "ExecuteTime": {
     "end_time": "2022-11-16T14:57:25.913395Z",
     "start_time": "2022-11-16T14:57:25.905728Z"
    }
   },
   "outputs": [
    {
     "name": "stdout",
     "output_type": "stream",
     "text": [
      "Total number of supported options markets: 74751\n"
     ]
    }
   ],
   "source": [
    "print('Total number of supported options markets: ' + str(len(asset_options)))"
   ]
  },
  {
   "cell_type": "markdown",
   "id": "58e5d014-3c70-4b4b-ac2d-d4e02d72c732",
   "metadata": {},
   "source": [
    "### Filter out expired/inactive contracts"
   ]
  },
  {
   "cell_type": "code",
   "execution_count": 8,
   "id": "8cb70fed-b993-4cb6-abbe-a16e4e2861b9",
   "metadata": {},
   "outputs": [],
   "source": [
    "df_asset_options = pd.DataFrame(asset_options)"
   ]
  },
  {
   "cell_type": "code",
   "execution_count": 9,
   "id": "b1f5f80b-89a2-4863-bae7-b06a6e8b8c6f",
   "metadata": {},
   "outputs": [
    {
     "data": {
      "text/html": [
       "<div>\n",
       "<style scoped>\n",
       "    .dataframe tbody tr th:only-of-type {\n",
       "        vertical-align: middle;\n",
       "    }\n",
       "\n",
       "    .dataframe tbody tr th {\n",
       "        vertical-align: top;\n",
       "    }\n",
       "\n",
       "    .dataframe thead th {\n",
       "        text-align: right;\n",
       "    }\n",
       "</style>\n",
       "<table border=\"1\" class=\"dataframe\">\n",
       "  <thead>\n",
       "    <tr style=\"text-align: right;\">\n",
       "      <th></th>\n",
       "      <th>market</th>\n",
       "      <th>exchange</th>\n",
       "      <th>type</th>\n",
       "      <th>base</th>\n",
       "      <th>quote</th>\n",
       "      <th>pair</th>\n",
       "      <th>symbol</th>\n",
       "      <th>size_asset</th>\n",
       "      <th>strike</th>\n",
       "      <th>option_contract_type</th>\n",
       "      <th>...</th>\n",
       "      <th>listing</th>\n",
       "      <th>expiration</th>\n",
       "      <th>settlement_price</th>\n",
       "      <th>status</th>\n",
       "      <th>order_amount_min</th>\n",
       "      <th>order_price_increment</th>\n",
       "      <th>order_taker_fee</th>\n",
       "      <th>order_maker_fee</th>\n",
       "      <th>base_native</th>\n",
       "      <th>quote_native</th>\n",
       "    </tr>\n",
       "  </thead>\n",
       "  <tbody>\n",
       "    <tr>\n",
       "      <th>0</th>\n",
       "      <td>deribit-ETH-10APR20-100-P-option</td>\n",
       "      <td>deribit</td>\n",
       "      <td>option</td>\n",
       "      <td>eth</td>\n",
       "      <td>usd</td>\n",
       "      <td>eth-usd</td>\n",
       "      <td>ETH-10APR20-100-P</td>\n",
       "      <td>eth</td>\n",
       "      <td>100</td>\n",
       "      <td>put</td>\n",
       "      <td>...</td>\n",
       "      <td>2020-03-26T08:00:02.000000000Z</td>\n",
       "      <td>2020-04-10T08:00:00.000000000Z</td>\n",
       "      <td>158.1</td>\n",
       "      <td>offline</td>\n",
       "      <td>1</td>\n",
       "      <td>0.0005</td>\n",
       "      <td>0.0004</td>\n",
       "      <td>0.0004</td>\n",
       "      <td>NaN</td>\n",
       "      <td>NaN</td>\n",
       "    </tr>\n",
       "    <tr>\n",
       "      <th>1</th>\n",
       "      <td>deribit-ETH-10APR20-110-P-option</td>\n",
       "      <td>deribit</td>\n",
       "      <td>option</td>\n",
       "      <td>eth</td>\n",
       "      <td>usd</td>\n",
       "      <td>eth-usd</td>\n",
       "      <td>ETH-10APR20-110-P</td>\n",
       "      <td>eth</td>\n",
       "      <td>110</td>\n",
       "      <td>put</td>\n",
       "      <td>...</td>\n",
       "      <td>2020-03-26T08:00:02.000000000Z</td>\n",
       "      <td>2020-04-10T08:00:00.000000000Z</td>\n",
       "      <td>158.1</td>\n",
       "      <td>offline</td>\n",
       "      <td>1</td>\n",
       "      <td>0.0005</td>\n",
       "      <td>0.0004</td>\n",
       "      <td>0.0004</td>\n",
       "      <td>NaN</td>\n",
       "      <td>NaN</td>\n",
       "    </tr>\n",
       "    <tr>\n",
       "      <th>2</th>\n",
       "      <td>deribit-ETH-10APR20-120-C-option</td>\n",
       "      <td>deribit</td>\n",
       "      <td>option</td>\n",
       "      <td>eth</td>\n",
       "      <td>usd</td>\n",
       "      <td>eth-usd</td>\n",
       "      <td>ETH-10APR20-120-C</td>\n",
       "      <td>eth</td>\n",
       "      <td>120</td>\n",
       "      <td>call</td>\n",
       "      <td>...</td>\n",
       "      <td>2020-03-26T08:00:02.000000000Z</td>\n",
       "      <td>2020-04-10T08:00:00.000000000Z</td>\n",
       "      <td>158.1</td>\n",
       "      <td>offline</td>\n",
       "      <td>1</td>\n",
       "      <td>0.0005</td>\n",
       "      <td>0.0004</td>\n",
       "      <td>0.0004</td>\n",
       "      <td>NaN</td>\n",
       "      <td>NaN</td>\n",
       "    </tr>\n",
       "    <tr>\n",
       "      <th>3</th>\n",
       "      <td>deribit-ETH-10APR20-120-P-option</td>\n",
       "      <td>deribit</td>\n",
       "      <td>option</td>\n",
       "      <td>eth</td>\n",
       "      <td>usd</td>\n",
       "      <td>eth-usd</td>\n",
       "      <td>ETH-10APR20-120-P</td>\n",
       "      <td>eth</td>\n",
       "      <td>120</td>\n",
       "      <td>put</td>\n",
       "      <td>...</td>\n",
       "      <td>2020-03-26T08:00:02.000000000Z</td>\n",
       "      <td>2020-04-10T08:00:00.000000000Z</td>\n",
       "      <td>158.1</td>\n",
       "      <td>offline</td>\n",
       "      <td>1</td>\n",
       "      <td>0.0005</td>\n",
       "      <td>0.0004</td>\n",
       "      <td>0.0004</td>\n",
       "      <td>NaN</td>\n",
       "      <td>NaN</td>\n",
       "    </tr>\n",
       "    <tr>\n",
       "      <th>4</th>\n",
       "      <td>deribit-ETH-10APR20-130-C-option</td>\n",
       "      <td>deribit</td>\n",
       "      <td>option</td>\n",
       "      <td>eth</td>\n",
       "      <td>usd</td>\n",
       "      <td>eth-usd</td>\n",
       "      <td>ETH-10APR20-130-C</td>\n",
       "      <td>eth</td>\n",
       "      <td>130</td>\n",
       "      <td>call</td>\n",
       "      <td>...</td>\n",
       "      <td>2020-03-26T08:00:02.000000000Z</td>\n",
       "      <td>2020-04-10T08:00:00.000000000Z</td>\n",
       "      <td>158.1</td>\n",
       "      <td>offline</td>\n",
       "      <td>1</td>\n",
       "      <td>0.0005</td>\n",
       "      <td>0.0004</td>\n",
       "      <td>0.0004</td>\n",
       "      <td>NaN</td>\n",
       "      <td>NaN</td>\n",
       "    </tr>\n",
       "  </tbody>\n",
       "</table>\n",
       "<p>5 rows × 22 columns</p>\n",
       "</div>"
      ],
      "text/plain": [
       "                             market exchange    type base quote     pair  \\\n",
       "0  deribit-ETH-10APR20-100-P-option  deribit  option  eth   usd  eth-usd   \n",
       "1  deribit-ETH-10APR20-110-P-option  deribit  option  eth   usd  eth-usd   \n",
       "2  deribit-ETH-10APR20-120-C-option  deribit  option  eth   usd  eth-usd   \n",
       "3  deribit-ETH-10APR20-120-P-option  deribit  option  eth   usd  eth-usd   \n",
       "4  deribit-ETH-10APR20-130-C-option  deribit  option  eth   usd  eth-usd   \n",
       "\n",
       "              symbol size_asset strike option_contract_type  ...  \\\n",
       "0  ETH-10APR20-100-P        eth    100                  put  ...   \n",
       "1  ETH-10APR20-110-P        eth    110                  put  ...   \n",
       "2  ETH-10APR20-120-C        eth    120                 call  ...   \n",
       "3  ETH-10APR20-120-P        eth    120                  put  ...   \n",
       "4  ETH-10APR20-130-C        eth    130                 call  ...   \n",
       "\n",
       "                          listing                      expiration  \\\n",
       "0  2020-03-26T08:00:02.000000000Z  2020-04-10T08:00:00.000000000Z   \n",
       "1  2020-03-26T08:00:02.000000000Z  2020-04-10T08:00:00.000000000Z   \n",
       "2  2020-03-26T08:00:02.000000000Z  2020-04-10T08:00:00.000000000Z   \n",
       "3  2020-03-26T08:00:02.000000000Z  2020-04-10T08:00:00.000000000Z   \n",
       "4  2020-03-26T08:00:02.000000000Z  2020-04-10T08:00:00.000000000Z   \n",
       "\n",
       "  settlement_price   status order_amount_min order_price_increment  \\\n",
       "0            158.1  offline                1                0.0005   \n",
       "1            158.1  offline                1                0.0005   \n",
       "2            158.1  offline                1                0.0005   \n",
       "3            158.1  offline                1                0.0005   \n",
       "4            158.1  offline                1                0.0005   \n",
       "\n",
       "  order_taker_fee order_maker_fee base_native quote_native  \n",
       "0          0.0004          0.0004         NaN          NaN  \n",
       "1          0.0004          0.0004         NaN          NaN  \n",
       "2          0.0004          0.0004         NaN          NaN  \n",
       "3          0.0004          0.0004         NaN          NaN  \n",
       "4          0.0004          0.0004         NaN          NaN  \n",
       "\n",
       "[5 rows x 22 columns]"
      ]
     },
     "execution_count": 9,
     "metadata": {},
     "output_type": "execute_result"
    }
   ],
   "source": [
    "df_asset_options.head()"
   ]
  },
  {
   "cell_type": "code",
   "execution_count": 10,
   "id": "2d31a696-6899-46dc-982a-6827ae1ab529",
   "metadata": {},
   "outputs": [
    {
     "name": "stdout",
     "output_type": "stream",
     "text": [
      "<class 'pandas.core.frame.DataFrame'>\n",
      "RangeIndex: 74751 entries, 0 to 74750\n",
      "Data columns (total 22 columns):\n",
      " #   Column                 Non-Null Count  Dtype \n",
      "---  ------                 --------------  ----- \n",
      " 0   market                 74751 non-null  object\n",
      " 1   exchange               74751 non-null  object\n",
      " 2   type                   74751 non-null  object\n",
      " 3   base                   74751 non-null  object\n",
      " 4   quote                  74751 non-null  object\n",
      " 5   pair                   74751 non-null  object\n",
      " 6   symbol                 74751 non-null  object\n",
      " 7   size_asset             74751 non-null  object\n",
      " 8   strike                 74751 non-null  object\n",
      " 9   option_contract_type   74751 non-null  object\n",
      " 10  is_european            74751 non-null  bool  \n",
      " 11  contract_size          74751 non-null  object\n",
      " 12  listing                74751 non-null  object\n",
      " 13  expiration             74751 non-null  object\n",
      " 14  settlement_price       74065 non-null  object\n",
      " 15  status                 74751 non-null  object\n",
      " 16  order_amount_min       74751 non-null  object\n",
      " 17  order_price_increment  74751 non-null  object\n",
      " 18  order_taker_fee        74751 non-null  object\n",
      " 19  order_maker_fee        74751 non-null  object\n",
      " 20  base_native            3482 non-null   object\n",
      " 21  quote_native           3482 non-null   object\n",
      "dtypes: bool(1), object(21)\n",
      "memory usage: 12.0+ MB\n"
     ]
    }
   ],
   "source": [
    "df_asset_options.info()"
   ]
  },
  {
   "cell_type": "code",
   "execution_count": 11,
   "id": "c1efbc82-df9a-4eee-9291-8e4d7108690a",
   "metadata": {
    "ExecuteTime": {
     "end_time": "2022-11-16T14:57:26.198675Z",
     "start_time": "2022-11-16T14:57:25.985106Z"
    }
   },
   "outputs": [
    {
     "data": {
      "text/html": [
       "<div>\n",
       "<style scoped>\n",
       "    .dataframe tbody tr th:only-of-type {\n",
       "        vertical-align: middle;\n",
       "    }\n",
       "\n",
       "    .dataframe tbody tr th {\n",
       "        vertical-align: top;\n",
       "    }\n",
       "\n",
       "    .dataframe thead th {\n",
       "        text-align: right;\n",
       "    }\n",
       "</style>\n",
       "<table border=\"1\" class=\"dataframe\">\n",
       "  <thead>\n",
       "    <tr style=\"text-align: right;\">\n",
       "      <th></th>\n",
       "      <th>market</th>\n",
       "      <th>exchange</th>\n",
       "      <th>type</th>\n",
       "      <th>base</th>\n",
       "      <th>quote</th>\n",
       "      <th>pair</th>\n",
       "      <th>symbol</th>\n",
       "      <th>size_asset</th>\n",
       "      <th>strike</th>\n",
       "      <th>option_contract_type</th>\n",
       "      <th>...</th>\n",
       "      <th>listing</th>\n",
       "      <th>expiration</th>\n",
       "      <th>settlement_price</th>\n",
       "      <th>status</th>\n",
       "      <th>order_amount_min</th>\n",
       "      <th>order_price_increment</th>\n",
       "      <th>order_taker_fee</th>\n",
       "      <th>order_maker_fee</th>\n",
       "      <th>base_native</th>\n",
       "      <th>quote_native</th>\n",
       "    </tr>\n",
       "  </thead>\n",
       "  <tbody>\n",
       "    <tr>\n",
       "      <th>2384</th>\n",
       "      <td>deribit-ETH-10SEP24-1950-C-option</td>\n",
       "      <td>deribit</td>\n",
       "      <td>option</td>\n",
       "      <td>eth</td>\n",
       "      <td>usd</td>\n",
       "      <td>eth-usd</td>\n",
       "      <td>ETH-10SEP24-1950-C</td>\n",
       "      <td>eth</td>\n",
       "      <td>1950</td>\n",
       "      <td>call</td>\n",
       "      <td>...</td>\n",
       "      <td>2024-09-07 08:00:09+00:00</td>\n",
       "      <td>2024-09-10 08:00:00+00:00</td>\n",
       "      <td>2360.48</td>\n",
       "      <td>offline</td>\n",
       "      <td>1</td>\n",
       "      <td>0.0001</td>\n",
       "      <td>0.0003</td>\n",
       "      <td>0.0003</td>\n",
       "      <td>ETH</td>\n",
       "      <td>USD</td>\n",
       "    </tr>\n",
       "    <tr>\n",
       "      <th>2385</th>\n",
       "      <td>deribit-ETH-10SEP24-1950-P-option</td>\n",
       "      <td>deribit</td>\n",
       "      <td>option</td>\n",
       "      <td>eth</td>\n",
       "      <td>usd</td>\n",
       "      <td>eth-usd</td>\n",
       "      <td>ETH-10SEP24-1950-P</td>\n",
       "      <td>eth</td>\n",
       "      <td>1950</td>\n",
       "      <td>put</td>\n",
       "      <td>...</td>\n",
       "      <td>2024-09-07 08:00:09+00:00</td>\n",
       "      <td>2024-09-10 08:00:00+00:00</td>\n",
       "      <td>2360.48</td>\n",
       "      <td>offline</td>\n",
       "      <td>1</td>\n",
       "      <td>0.0001</td>\n",
       "      <td>0.0003</td>\n",
       "      <td>0.0003</td>\n",
       "      <td>ETH</td>\n",
       "      <td>USD</td>\n",
       "    </tr>\n",
       "    <tr>\n",
       "      <th>2386</th>\n",
       "      <td>deribit-ETH-10SEP24-2000-C-option</td>\n",
       "      <td>deribit</td>\n",
       "      <td>option</td>\n",
       "      <td>eth</td>\n",
       "      <td>usd</td>\n",
       "      <td>eth-usd</td>\n",
       "      <td>ETH-10SEP24-2000-C</td>\n",
       "      <td>eth</td>\n",
       "      <td>2000</td>\n",
       "      <td>call</td>\n",
       "      <td>...</td>\n",
       "      <td>2024-09-07 08:00:09+00:00</td>\n",
       "      <td>2024-09-10 08:00:00+00:00</td>\n",
       "      <td>2360.48</td>\n",
       "      <td>offline</td>\n",
       "      <td>1</td>\n",
       "      <td>0.0001</td>\n",
       "      <td>0.0003</td>\n",
       "      <td>0.0003</td>\n",
       "      <td>ETH</td>\n",
       "      <td>USD</td>\n",
       "    </tr>\n",
       "    <tr>\n",
       "      <th>2387</th>\n",
       "      <td>deribit-ETH-10SEP24-2000-P-option</td>\n",
       "      <td>deribit</td>\n",
       "      <td>option</td>\n",
       "      <td>eth</td>\n",
       "      <td>usd</td>\n",
       "      <td>eth-usd</td>\n",
       "      <td>ETH-10SEP24-2000-P</td>\n",
       "      <td>eth</td>\n",
       "      <td>2000</td>\n",
       "      <td>put</td>\n",
       "      <td>...</td>\n",
       "      <td>2024-09-07 08:00:09+00:00</td>\n",
       "      <td>2024-09-10 08:00:00+00:00</td>\n",
       "      <td>2360.48</td>\n",
       "      <td>offline</td>\n",
       "      <td>1</td>\n",
       "      <td>0.0001</td>\n",
       "      <td>0.0003</td>\n",
       "      <td>0.0003</td>\n",
       "      <td>ETH</td>\n",
       "      <td>USD</td>\n",
       "    </tr>\n",
       "    <tr>\n",
       "      <th>2388</th>\n",
       "      <td>deribit-ETH-10SEP24-2050-C-option</td>\n",
       "      <td>deribit</td>\n",
       "      <td>option</td>\n",
       "      <td>eth</td>\n",
       "      <td>usd</td>\n",
       "      <td>eth-usd</td>\n",
       "      <td>ETH-10SEP24-2050-C</td>\n",
       "      <td>eth</td>\n",
       "      <td>2050</td>\n",
       "      <td>call</td>\n",
       "      <td>...</td>\n",
       "      <td>2024-09-07 08:00:09+00:00</td>\n",
       "      <td>2024-09-10 08:00:00+00:00</td>\n",
       "      <td>2360.48</td>\n",
       "      <td>offline</td>\n",
       "      <td>1</td>\n",
       "      <td>0.0001</td>\n",
       "      <td>0.0003</td>\n",
       "      <td>0.0003</td>\n",
       "      <td>ETH</td>\n",
       "      <td>USD</td>\n",
       "    </tr>\n",
       "    <tr>\n",
       "      <th>...</th>\n",
       "      <td>...</td>\n",
       "      <td>...</td>\n",
       "      <td>...</td>\n",
       "      <td>...</td>\n",
       "      <td>...</td>\n",
       "      <td>...</td>\n",
       "      <td>...</td>\n",
       "      <td>...</td>\n",
       "      <td>...</td>\n",
       "      <td>...</td>\n",
       "      <td>...</td>\n",
       "      <td>...</td>\n",
       "      <td>...</td>\n",
       "      <td>...</td>\n",
       "      <td>...</td>\n",
       "      <td>...</td>\n",
       "      <td>...</td>\n",
       "      <td>...</td>\n",
       "      <td>...</td>\n",
       "      <td>...</td>\n",
       "      <td>...</td>\n",
       "    </tr>\n",
       "    <tr>\n",
       "      <th>74746</th>\n",
       "      <td>deribit-ETH-9SEP24-2800-P-option</td>\n",
       "      <td>deribit</td>\n",
       "      <td>option</td>\n",
       "      <td>eth</td>\n",
       "      <td>usd</td>\n",
       "      <td>eth-usd</td>\n",
       "      <td>ETH-9SEP24-2800-P</td>\n",
       "      <td>eth</td>\n",
       "      <td>2800</td>\n",
       "      <td>put</td>\n",
       "      <td>...</td>\n",
       "      <td>2024-09-06 08:00:10+00:00</td>\n",
       "      <td>2024-09-09 08:00:00+00:00</td>\n",
       "      <td>2311.75</td>\n",
       "      <td>offline</td>\n",
       "      <td>1</td>\n",
       "      <td>0.0001</td>\n",
       "      <td>0.0003</td>\n",
       "      <td>0.0003</td>\n",
       "      <td>ETH</td>\n",
       "      <td>USD</td>\n",
       "    </tr>\n",
       "    <tr>\n",
       "      <th>74747</th>\n",
       "      <td>deribit-ETH-9SEP24-2850-C-option</td>\n",
       "      <td>deribit</td>\n",
       "      <td>option</td>\n",
       "      <td>eth</td>\n",
       "      <td>usd</td>\n",
       "      <td>eth-usd</td>\n",
       "      <td>ETH-9SEP24-2850-C</td>\n",
       "      <td>eth</td>\n",
       "      <td>2850</td>\n",
       "      <td>call</td>\n",
       "      <td>...</td>\n",
       "      <td>2024-09-06 08:00:10+00:00</td>\n",
       "      <td>2024-09-09 08:00:00+00:00</td>\n",
       "      <td>2311.75</td>\n",
       "      <td>offline</td>\n",
       "      <td>1</td>\n",
       "      <td>0.0001</td>\n",
       "      <td>0.0003</td>\n",
       "      <td>0.0003</td>\n",
       "      <td>ETH</td>\n",
       "      <td>USD</td>\n",
       "    </tr>\n",
       "    <tr>\n",
       "      <th>74748</th>\n",
       "      <td>deribit-ETH-9SEP24-2850-P-option</td>\n",
       "      <td>deribit</td>\n",
       "      <td>option</td>\n",
       "      <td>eth</td>\n",
       "      <td>usd</td>\n",
       "      <td>eth-usd</td>\n",
       "      <td>ETH-9SEP24-2850-P</td>\n",
       "      <td>eth</td>\n",
       "      <td>2850</td>\n",
       "      <td>put</td>\n",
       "      <td>...</td>\n",
       "      <td>2024-09-06 08:00:10+00:00</td>\n",
       "      <td>2024-09-09 08:00:00+00:00</td>\n",
       "      <td>2311.75</td>\n",
       "      <td>offline</td>\n",
       "      <td>1</td>\n",
       "      <td>0.0001</td>\n",
       "      <td>0.0003</td>\n",
       "      <td>0.0003</td>\n",
       "      <td>ETH</td>\n",
       "      <td>USD</td>\n",
       "    </tr>\n",
       "    <tr>\n",
       "      <th>74749</th>\n",
       "      <td>deribit-ETH-9SEP24-2900-C-option</td>\n",
       "      <td>deribit</td>\n",
       "      <td>option</td>\n",
       "      <td>eth</td>\n",
       "      <td>usd</td>\n",
       "      <td>eth-usd</td>\n",
       "      <td>ETH-9SEP24-2900-C</td>\n",
       "      <td>eth</td>\n",
       "      <td>2900</td>\n",
       "      <td>call</td>\n",
       "      <td>...</td>\n",
       "      <td>2024-09-06 10:37:00+00:00</td>\n",
       "      <td>2024-09-09 08:00:00+00:00</td>\n",
       "      <td>2311.75</td>\n",
       "      <td>offline</td>\n",
       "      <td>1</td>\n",
       "      <td>0.0001</td>\n",
       "      <td>0.0003</td>\n",
       "      <td>0.0003</td>\n",
       "      <td>ETH</td>\n",
       "      <td>USD</td>\n",
       "    </tr>\n",
       "    <tr>\n",
       "      <th>74750</th>\n",
       "      <td>deribit-ETH-9SEP24-2900-P-option</td>\n",
       "      <td>deribit</td>\n",
       "      <td>option</td>\n",
       "      <td>eth</td>\n",
       "      <td>usd</td>\n",
       "      <td>eth-usd</td>\n",
       "      <td>ETH-9SEP24-2900-P</td>\n",
       "      <td>eth</td>\n",
       "      <td>2900</td>\n",
       "      <td>put</td>\n",
       "      <td>...</td>\n",
       "      <td>2024-09-06 10:37:00+00:00</td>\n",
       "      <td>2024-09-09 08:00:00+00:00</td>\n",
       "      <td>2311.75</td>\n",
       "      <td>offline</td>\n",
       "      <td>1</td>\n",
       "      <td>0.0001</td>\n",
       "      <td>0.0003</td>\n",
       "      <td>0.0003</td>\n",
       "      <td>ETH</td>\n",
       "      <td>USD</td>\n",
       "    </tr>\n",
       "  </tbody>\n",
       "</table>\n",
       "<p>376 rows × 22 columns</p>\n",
       "</div>"
      ],
      "text/plain": [
       "                                  market exchange    type base quote     pair  \\\n",
       "2384   deribit-ETH-10SEP24-1950-C-option  deribit  option  eth   usd  eth-usd   \n",
       "2385   deribit-ETH-10SEP24-1950-P-option  deribit  option  eth   usd  eth-usd   \n",
       "2386   deribit-ETH-10SEP24-2000-C-option  deribit  option  eth   usd  eth-usd   \n",
       "2387   deribit-ETH-10SEP24-2000-P-option  deribit  option  eth   usd  eth-usd   \n",
       "2388   deribit-ETH-10SEP24-2050-C-option  deribit  option  eth   usd  eth-usd   \n",
       "...                                  ...      ...     ...  ...   ...      ...   \n",
       "74746   deribit-ETH-9SEP24-2800-P-option  deribit  option  eth   usd  eth-usd   \n",
       "74747   deribit-ETH-9SEP24-2850-C-option  deribit  option  eth   usd  eth-usd   \n",
       "74748   deribit-ETH-9SEP24-2850-P-option  deribit  option  eth   usd  eth-usd   \n",
       "74749   deribit-ETH-9SEP24-2900-C-option  deribit  option  eth   usd  eth-usd   \n",
       "74750   deribit-ETH-9SEP24-2900-P-option  deribit  option  eth   usd  eth-usd   \n",
       "\n",
       "                   symbol size_asset strike option_contract_type  ...  \\\n",
       "2384   ETH-10SEP24-1950-C        eth   1950                 call  ...   \n",
       "2385   ETH-10SEP24-1950-P        eth   1950                  put  ...   \n",
       "2386   ETH-10SEP24-2000-C        eth   2000                 call  ...   \n",
       "2387   ETH-10SEP24-2000-P        eth   2000                  put  ...   \n",
       "2388   ETH-10SEP24-2050-C        eth   2050                 call  ...   \n",
       "...                   ...        ...    ...                  ...  ...   \n",
       "74746   ETH-9SEP24-2800-P        eth   2800                  put  ...   \n",
       "74747   ETH-9SEP24-2850-C        eth   2850                 call  ...   \n",
       "74748   ETH-9SEP24-2850-P        eth   2850                  put  ...   \n",
       "74749   ETH-9SEP24-2900-C        eth   2900                 call  ...   \n",
       "74750   ETH-9SEP24-2900-P        eth   2900                  put  ...   \n",
       "\n",
       "                        listing                expiration settlement_price  \\\n",
       "2384  2024-09-07 08:00:09+00:00 2024-09-10 08:00:00+00:00          2360.48   \n",
       "2385  2024-09-07 08:00:09+00:00 2024-09-10 08:00:00+00:00          2360.48   \n",
       "2386  2024-09-07 08:00:09+00:00 2024-09-10 08:00:00+00:00          2360.48   \n",
       "2387  2024-09-07 08:00:09+00:00 2024-09-10 08:00:00+00:00          2360.48   \n",
       "2388  2024-09-07 08:00:09+00:00 2024-09-10 08:00:00+00:00          2360.48   \n",
       "...                         ...                       ...              ...   \n",
       "74746 2024-09-06 08:00:10+00:00 2024-09-09 08:00:00+00:00          2311.75   \n",
       "74747 2024-09-06 08:00:10+00:00 2024-09-09 08:00:00+00:00          2311.75   \n",
       "74748 2024-09-06 08:00:10+00:00 2024-09-09 08:00:00+00:00          2311.75   \n",
       "74749 2024-09-06 10:37:00+00:00 2024-09-09 08:00:00+00:00          2311.75   \n",
       "74750 2024-09-06 10:37:00+00:00 2024-09-09 08:00:00+00:00          2311.75   \n",
       "\n",
       "        status order_amount_min order_price_increment order_taker_fee  \\\n",
       "2384   offline                1                0.0001          0.0003   \n",
       "2385   offline                1                0.0001          0.0003   \n",
       "2386   offline                1                0.0001          0.0003   \n",
       "2387   offline                1                0.0001          0.0003   \n",
       "2388   offline                1                0.0001          0.0003   \n",
       "...        ...              ...                   ...             ...   \n",
       "74746  offline                1                0.0001          0.0003   \n",
       "74747  offline                1                0.0001          0.0003   \n",
       "74748  offline                1                0.0001          0.0003   \n",
       "74749  offline                1                0.0001          0.0003   \n",
       "74750  offline                1                0.0001          0.0003   \n",
       "\n",
       "      order_maker_fee base_native quote_native  \n",
       "2384           0.0003         ETH          USD  \n",
       "2385           0.0003         ETH          USD  \n",
       "2386           0.0003         ETH          USD  \n",
       "2387           0.0003         ETH          USD  \n",
       "2388           0.0003         ETH          USD  \n",
       "...               ...         ...          ...  \n",
       "74746          0.0003         ETH          USD  \n",
       "74747          0.0003         ETH          USD  \n",
       "74748          0.0003         ETH          USD  \n",
       "74749          0.0003         ETH          USD  \n",
       "74750          0.0003         ETH          USD  \n",
       "\n",
       "[376 rows x 22 columns]"
      ]
     },
     "execution_count": 11,
     "metadata": {},
     "output_type": "execute_result"
    }
   ],
   "source": [
    "df_asset_options['listing'] = pd.to_datetime(df_asset_options['listing'])\n",
    "df_asset_options['expiration'] = pd.to_datetime(df_asset_options['expiration'])\n",
    "\n",
    "df_asset_options = df_asset_options.loc[((df_asset_options.listing > start) & (df_asset_options.listing < end))]\n",
    "df_asset_options"
   ]
  },
  {
   "cell_type": "markdown",
   "id": "c021ebeb-9d09-4d10-a0fc-2abb2b7ef12f",
   "metadata": {},
   "source": [
    "# TRADE VOLUME"
   ]
  },
  {
   "cell_type": "markdown",
   "id": "29e75689-7b56-4a12-b33a-f4f0d3148ac6",
   "metadata": {},
   "source": [
    "On Deribit, each option contract provides notional exposure to 1 unit of the underlying asset (i.e. 1 BTC or 1 ETH). To calculate options volume, we must multiply the 'amount' field (representing the number of contracts traded) by the USD price of the underlying asset. "
   ]
  },
  {
   "cell_type": "code",
   "execution_count": 12,
   "id": "008902fe-6e82-483f-a243-aebd6ab8578e",
   "metadata": {
    "ExecuteTime": {
     "end_time": "2022-11-16T14:57:26.214221Z",
     "start_time": "2022-11-16T14:57:26.200468Z"
    }
   },
   "outputs": [],
   "source": [
    "list_options_markets = list(df_asset_options.market.unique())"
   ]
  },
  {
   "cell_type": "code",
   "execution_count": 13,
   "id": "47766dca-a700-4794-9ae0-50b82a0dad81",
   "metadata": {
    "ExecuteTime": {
     "end_time": "2022-11-16T15:40:48.068301Z",
     "start_time": "2022-11-16T14:57:26.215907Z"
    }
   },
   "outputs": [
    {
     "name": "stdout",
     "output_type": "stream",
     "text": [
      "Retrieving batch of trades for markets 0 - 420...\n",
      "Retrieved batch of 12012 trades\n",
      "Total of 12012 trades\n",
      "\n"
     ]
    }
   ],
   "source": [
    "full_vol = pd.DataFrame()\n",
    "batch_size = 420\n",
    "\n",
    "for i in range(0, len(list_options_markets),batch_size):\n",
    "    mkt_batch = list_options_markets[i:i+batch_size]\n",
    "    print(str('Retrieving batch of trades for markets ' + str(i) + ' - ' + str(i+batch_size) + '...'))\n",
    "\n",
    "    vol_batch = client.get_market_trades(\n",
    "        markets=mkt_batch,\n",
    "        start_time = start,\n",
    "        end_time= end,\n",
    "        page_size=10000\n",
    "    ).to_dataframe()\n",
    "    print('Retrieved batch of ' + str(len(vol_batch)) + ' trades')\n",
    "    \n",
    "    full_vol = pd.concat((full_vol, vol_batch), axis = 0, ignore_index=False)\n",
    "    print('Total of ' + str(len(full_vol)) + ' trades\\n')\n",
    "\n",
    "full_vol = full_vol.reset_index(drop=True)"
   ]
  },
  {
   "cell_type": "code",
   "execution_count": 14,
   "id": "4de1da7b-9849-43c2-b15d-fa379a4b14d0",
   "metadata": {
    "ExecuteTime": {
     "end_time": "2022-11-16T15:40:48.296634Z",
     "start_time": "2022-11-16T15:40:48.070191Z"
    }
   },
   "outputs": [
    {
     "data": {
      "text/html": [
       "<div>\n",
       "<style scoped>\n",
       "    .dataframe tbody tr th:only-of-type {\n",
       "        vertical-align: middle;\n",
       "    }\n",
       "\n",
       "    .dataframe tbody tr th {\n",
       "        vertical-align: top;\n",
       "    }\n",
       "\n",
       "    .dataframe thead th {\n",
       "        text-align: right;\n",
       "    }\n",
       "</style>\n",
       "<table border=\"1\" class=\"dataframe\">\n",
       "  <thead>\n",
       "    <tr style=\"text-align: right;\">\n",
       "      <th></th>\n",
       "      <th>market</th>\n",
       "      <th>time</th>\n",
       "      <th>amount</th>\n",
       "    </tr>\n",
       "  </thead>\n",
       "  <tbody>\n",
       "    <tr>\n",
       "      <th>1071</th>\n",
       "      <td>deribit-ETH-3SEP24-2375-P-option</td>\n",
       "      <td>2024-09-01 06:55:13.947000+00:00</td>\n",
       "      <td>1</td>\n",
       "    </tr>\n",
       "    <tr>\n",
       "      <th>1072</th>\n",
       "      <td>deribit-ETH-3SEP24-2375-P-option</td>\n",
       "      <td>2024-09-01 08:04:42.145000+00:00</td>\n",
       "      <td>1</td>\n",
       "    </tr>\n",
       "    <tr>\n",
       "      <th>1073</th>\n",
       "      <td>deribit-ETH-3SEP24-2375-P-option</td>\n",
       "      <td>2024-09-01 08:07:41.254000+00:00</td>\n",
       "      <td>3</td>\n",
       "    </tr>\n",
       "    <tr>\n",
       "      <th>2429</th>\n",
       "      <td>deribit-ETH-4SEP24-2550-C-option</td>\n",
       "      <td>2024-09-01 08:33:21.911000+00:00</td>\n",
       "      <td>1</td>\n",
       "    </tr>\n",
       "    <tr>\n",
       "      <th>2805</th>\n",
       "      <td>deribit-ETH-4SEP24-2700-C-option</td>\n",
       "      <td>2024-09-01 08:47:26.803000+00:00</td>\n",
       "      <td>14</td>\n",
       "    </tr>\n",
       "    <tr>\n",
       "      <th>...</th>\n",
       "      <td>...</td>\n",
       "      <td>...</td>\n",
       "      <td>...</td>\n",
       "    </tr>\n",
       "    <tr>\n",
       "      <th>11208</th>\n",
       "      <td>deribit-ETH-9SEP24-2300-C-option</td>\n",
       "      <td>2024-09-07 23:54:16.170000+00:00</td>\n",
       "      <td>9</td>\n",
       "    </tr>\n",
       "    <tr>\n",
       "      <th>9225</th>\n",
       "      <td>deribit-ETH-8SEP24-2325-C-option</td>\n",
       "      <td>2024-09-07 23:54:52.991000+00:00</td>\n",
       "      <td>2</td>\n",
       "    </tr>\n",
       "    <tr>\n",
       "      <th>8166</th>\n",
       "      <td>deribit-ETH-8SEP24-2050-P-option</td>\n",
       "      <td>2024-09-07 23:57:33.509000+00:00</td>\n",
       "      <td>2</td>\n",
       "    </tr>\n",
       "    <tr>\n",
       "      <th>9650</th>\n",
       "      <td>deribit-ETH-8SEP24-2400-C-option</td>\n",
       "      <td>2024-09-07 23:58:04.697000+00:00</td>\n",
       "      <td>1</td>\n",
       "    </tr>\n",
       "    <tr>\n",
       "      <th>9651</th>\n",
       "      <td>deribit-ETH-8SEP24-2400-C-option</td>\n",
       "      <td>2024-09-07 23:58:53.038000+00:00</td>\n",
       "      <td>1</td>\n",
       "    </tr>\n",
       "  </tbody>\n",
       "</table>\n",
       "<p>10824 rows × 3 columns</p>\n",
       "</div>"
      ],
      "text/plain": [
       "                                 market                             time  \\\n",
       "1071   deribit-ETH-3SEP24-2375-P-option 2024-09-01 06:55:13.947000+00:00   \n",
       "1072   deribit-ETH-3SEP24-2375-P-option 2024-09-01 08:04:42.145000+00:00   \n",
       "1073   deribit-ETH-3SEP24-2375-P-option 2024-09-01 08:07:41.254000+00:00   \n",
       "2429   deribit-ETH-4SEP24-2550-C-option 2024-09-01 08:33:21.911000+00:00   \n",
       "2805   deribit-ETH-4SEP24-2700-C-option 2024-09-01 08:47:26.803000+00:00   \n",
       "...                                 ...                              ...   \n",
       "11208  deribit-ETH-9SEP24-2300-C-option 2024-09-07 23:54:16.170000+00:00   \n",
       "9225   deribit-ETH-8SEP24-2325-C-option 2024-09-07 23:54:52.991000+00:00   \n",
       "8166   deribit-ETH-8SEP24-2050-P-option 2024-09-07 23:57:33.509000+00:00   \n",
       "9650   deribit-ETH-8SEP24-2400-C-option 2024-09-07 23:58:04.697000+00:00   \n",
       "9651   deribit-ETH-8SEP24-2400-C-option 2024-09-07 23:58:53.038000+00:00   \n",
       "\n",
       "       amount  \n",
       "1071        1  \n",
       "1072        1  \n",
       "1073        3  \n",
       "2429        1  \n",
       "2805       14  \n",
       "...       ...  \n",
       "11208       9  \n",
       "9225        2  \n",
       "8166        2  \n",
       "9650        1  \n",
       "9651        1  \n",
       "\n",
       "[10824 rows x 3 columns]"
      ]
     },
     "execution_count": 14,
     "metadata": {},
     "output_type": "execute_result"
    }
   ],
   "source": [
    "full_vol = full_vol[['market','time','amount']]\n",
    "full_vol = full_vol[~(full_vol['time'] > end)]\n",
    "full_vol.sort_values('time')"
   ]
  },
  {
   "cell_type": "markdown",
   "id": "a94a9c16-2340-4213-b15f-e6463dbbd6d2",
   "metadata": {},
   "source": [
    "### Retrieve 1-minute Reference Rate"
   ]
  },
  {
   "cell_type": "code",
   "execution_count": 15,
   "id": "745ed562-7617-4ef7-b6ab-d7ddd1b0e531",
   "metadata": {
    "ExecuteTime": {
     "end_time": "2022-11-16T15:44:59.485883Z",
     "start_time": "2022-11-16T15:40:48.297962Z"
    }
   },
   "outputs": [],
   "source": [
    "df_refrate = client.get_asset_metrics(\n",
    "    assets=asset,\n",
    "    frequency='1m',\n",
    "    metrics='ReferenceRateUSD',\n",
    "    start_time=start,\n",
    "    end_time=end\n",
    ").to_dataframe()"
   ]
  },
  {
   "cell_type": "code",
   "execution_count": 16,
   "id": "a0d84576-ac6d-4702-8d07-350ea49daf9a",
   "metadata": {
    "ExecuteTime": {
     "end_time": "2022-11-16T15:44:59.505020Z",
     "start_time": "2022-11-16T15:44:59.487372Z"
    }
   },
   "outputs": [
    {
     "data": {
      "text/html": [
       "<div>\n",
       "<style scoped>\n",
       "    .dataframe tbody tr th:only-of-type {\n",
       "        vertical-align: middle;\n",
       "    }\n",
       "\n",
       "    .dataframe tbody tr th {\n",
       "        vertical-align: top;\n",
       "    }\n",
       "\n",
       "    .dataframe thead th {\n",
       "        text-align: right;\n",
       "    }\n",
       "</style>\n",
       "<table border=\"1\" class=\"dataframe\">\n",
       "  <thead>\n",
       "    <tr style=\"text-align: right;\">\n",
       "      <th></th>\n",
       "      <th>ReferenceRateUSD</th>\n",
       "    </tr>\n",
       "    <tr>\n",
       "      <th>time</th>\n",
       "      <th></th>\n",
       "    </tr>\n",
       "  </thead>\n",
       "  <tbody>\n",
       "    <tr>\n",
       "      <th>2024-09-01 00:00:00+00:00</th>\n",
       "      <td>2512.79</td>\n",
       "    </tr>\n",
       "    <tr>\n",
       "      <th>2024-09-01 00:01:00+00:00</th>\n",
       "      <td>2512.41</td>\n",
       "    </tr>\n",
       "    <tr>\n",
       "      <th>2024-09-01 00:02:00+00:00</th>\n",
       "      <td>2510.65</td>\n",
       "    </tr>\n",
       "    <tr>\n",
       "      <th>2024-09-01 00:03:00+00:00</th>\n",
       "      <td>2513.37</td>\n",
       "    </tr>\n",
       "    <tr>\n",
       "      <th>2024-09-01 00:04:00+00:00</th>\n",
       "      <td>2511.32</td>\n",
       "    </tr>\n",
       "    <tr>\n",
       "      <th>...</th>\n",
       "      <td>...</td>\n",
       "    </tr>\n",
       "    <tr>\n",
       "      <th>2024-09-08 23:55:00+00:00</th>\n",
       "      <td>2298.15</td>\n",
       "    </tr>\n",
       "    <tr>\n",
       "      <th>2024-09-08 23:56:00+00:00</th>\n",
       "      <td>2297.49</td>\n",
       "    </tr>\n",
       "    <tr>\n",
       "      <th>2024-09-08 23:57:00+00:00</th>\n",
       "      <td>2294.79</td>\n",
       "    </tr>\n",
       "    <tr>\n",
       "      <th>2024-09-08 23:58:00+00:00</th>\n",
       "      <td>2296.77</td>\n",
       "    </tr>\n",
       "    <tr>\n",
       "      <th>2024-09-08 23:59:00+00:00</th>\n",
       "      <td>2298.61</td>\n",
       "    </tr>\n",
       "  </tbody>\n",
       "</table>\n",
       "<p>11520 rows × 1 columns</p>\n",
       "</div>"
      ],
      "text/plain": [
       "                           ReferenceRateUSD\n",
       "time                                       \n",
       "2024-09-01 00:00:00+00:00           2512.79\n",
       "2024-09-01 00:01:00+00:00           2512.41\n",
       "2024-09-01 00:02:00+00:00           2510.65\n",
       "2024-09-01 00:03:00+00:00           2513.37\n",
       "2024-09-01 00:04:00+00:00           2511.32\n",
       "...                                     ...\n",
       "2024-09-08 23:55:00+00:00           2298.15\n",
       "2024-09-08 23:56:00+00:00           2297.49\n",
       "2024-09-08 23:57:00+00:00           2294.79\n",
       "2024-09-08 23:58:00+00:00           2296.77\n",
       "2024-09-08 23:59:00+00:00           2298.61\n",
       "\n",
       "[11520 rows x 1 columns]"
      ]
     },
     "execution_count": 16,
     "metadata": {},
     "output_type": "execute_result"
    }
   ],
   "source": [
    "df_refrate = df_refrate.set_index('time').sort_index().drop(columns=['asset'])\n",
    "df_refrate"
   ]
  },
  {
   "cell_type": "code",
   "execution_count": 17,
   "id": "9abab6e6-5d8e-488a-affe-1456cba0d2fc",
   "metadata": {
    "ExecuteTime": {
     "end_time": "2022-11-16T15:44:59.763795Z",
     "start_time": "2022-11-16T15:44:59.506383Z"
    }
   },
   "outputs": [],
   "source": [
    "full_vol['time'] = full_vol['time'].round('T')\n",
    "\n",
    "# Merge trades data with 1s reference rate\n",
    "full_vol = full_vol.merge(df_refrate.reset_index(),how='left', on='time')"
   ]
  },
  {
   "cell_type": "markdown",
   "id": "adaecb5b-557d-463d-aced-9e7ec332cedf",
   "metadata": {},
   "source": [
    "### Calculate USD value of trades"
   ]
  },
  {
   "cell_type": "code",
   "execution_count": 18,
   "id": "217f762a-b996-4bec-b3ab-5b925093ff50",
   "metadata": {
    "ExecuteTime": {
     "end_time": "2022-11-16T15:44:59.772452Z",
     "start_time": "2022-11-16T15:44:59.765270Z"
    }
   },
   "outputs": [],
   "source": [
    "full_vol['USD Volume'] = full_vol['amount'] * full_vol['ReferenceRateUSD']"
   ]
  },
  {
   "cell_type": "code",
   "execution_count": 19,
   "id": "ee89a672-3a58-4a0e-9ea0-87f4a9064832",
   "metadata": {
    "ExecuteTime": {
     "end_time": "2022-11-16T15:44:59.789102Z",
     "start_time": "2022-11-16T15:44:59.773854Z"
    }
   },
   "outputs": [
    {
     "data": {
      "text/html": [
       "<div>\n",
       "<style scoped>\n",
       "    .dataframe tbody tr th:only-of-type {\n",
       "        vertical-align: middle;\n",
       "    }\n",
       "\n",
       "    .dataframe tbody tr th {\n",
       "        vertical-align: top;\n",
       "    }\n",
       "\n",
       "    .dataframe thead th {\n",
       "        text-align: right;\n",
       "    }\n",
       "</style>\n",
       "<table border=\"1\" class=\"dataframe\">\n",
       "  <thead>\n",
       "    <tr style=\"text-align: right;\">\n",
       "      <th></th>\n",
       "      <th>market</th>\n",
       "      <th>time</th>\n",
       "      <th>amount</th>\n",
       "      <th>ReferenceRateUSD</th>\n",
       "      <th>USD Volume</th>\n",
       "    </tr>\n",
       "  </thead>\n",
       "  <tbody>\n",
       "    <tr>\n",
       "      <th>0</th>\n",
       "      <td>deribit-ETH-10SEP24-1950-P-option</td>\n",
       "      <td>2024-09-07 09:06:00+00:00</td>\n",
       "      <td>5</td>\n",
       "      <td>2293.8</td>\n",
       "      <td>11469.0</td>\n",
       "    </tr>\n",
       "    <tr>\n",
       "      <th>1</th>\n",
       "      <td>deribit-ETH-10SEP24-1950-P-option</td>\n",
       "      <td>2024-09-07 09:43:00+00:00</td>\n",
       "      <td>10</td>\n",
       "      <td>2279.45</td>\n",
       "      <td>22794.5</td>\n",
       "    </tr>\n",
       "    <tr>\n",
       "      <th>2</th>\n",
       "      <td>deribit-ETH-10SEP24-1950-P-option</td>\n",
       "      <td>2024-09-07 09:43:00+00:00</td>\n",
       "      <td>9</td>\n",
       "      <td>2279.45</td>\n",
       "      <td>20515.05</td>\n",
       "    </tr>\n",
       "    <tr>\n",
       "      <th>3</th>\n",
       "      <td>deribit-ETH-10SEP24-1950-P-option</td>\n",
       "      <td>2024-09-07 09:43:00+00:00</td>\n",
       "      <td>1</td>\n",
       "      <td>2279.45</td>\n",
       "      <td>2279.45</td>\n",
       "    </tr>\n",
       "    <tr>\n",
       "      <th>4</th>\n",
       "      <td>deribit-ETH-10SEP24-1950-P-option</td>\n",
       "      <td>2024-09-07 11:42:00+00:00</td>\n",
       "      <td>5</td>\n",
       "      <td>2285.0</td>\n",
       "      <td>11425.0</td>\n",
       "    </tr>\n",
       "    <tr>\n",
       "      <th>...</th>\n",
       "      <td>...</td>\n",
       "      <td>...</td>\n",
       "      <td>...</td>\n",
       "      <td>...</td>\n",
       "      <td>...</td>\n",
       "    </tr>\n",
       "    <tr>\n",
       "      <th>10819</th>\n",
       "      <td>deribit-ETH-9SEP24-2750-C-option</td>\n",
       "      <td>2024-09-06 17:38:00+00:00</td>\n",
       "      <td>1</td>\n",
       "      <td>2235.41</td>\n",
       "      <td>2235.41</td>\n",
       "    </tr>\n",
       "    <tr>\n",
       "      <th>10820</th>\n",
       "      <td>deribit-ETH-9SEP24-2750-C-option</td>\n",
       "      <td>2024-09-07 17:02:00+00:00</td>\n",
       "      <td>5</td>\n",
       "      <td>2288.46</td>\n",
       "      <td>11442.3</td>\n",
       "    </tr>\n",
       "    <tr>\n",
       "      <th>10821</th>\n",
       "      <td>deribit-ETH-9SEP24-2750-C-option</td>\n",
       "      <td>2024-09-07 18:21:00+00:00</td>\n",
       "      <td>45</td>\n",
       "      <td>2278.46</td>\n",
       "      <td>102530.7</td>\n",
       "    </tr>\n",
       "    <tr>\n",
       "      <th>10822</th>\n",
       "      <td>deribit-ETH-9SEP24-2750-C-option</td>\n",
       "      <td>2024-09-07 18:21:00+00:00</td>\n",
       "      <td>23</td>\n",
       "      <td>2278.46</td>\n",
       "      <td>52404.58</td>\n",
       "    </tr>\n",
       "    <tr>\n",
       "      <th>10823</th>\n",
       "      <td>deribit-ETH-9SEP24-2800-P-option</td>\n",
       "      <td>2024-09-06 17:37:00+00:00</td>\n",
       "      <td>1</td>\n",
       "      <td>2233.79</td>\n",
       "      <td>2233.79</td>\n",
       "    </tr>\n",
       "  </tbody>\n",
       "</table>\n",
       "<p>10824 rows × 5 columns</p>\n",
       "</div>"
      ],
      "text/plain": [
       "                                  market                      time  amount  \\\n",
       "0      deribit-ETH-10SEP24-1950-P-option 2024-09-07 09:06:00+00:00       5   \n",
       "1      deribit-ETH-10SEP24-1950-P-option 2024-09-07 09:43:00+00:00      10   \n",
       "2      deribit-ETH-10SEP24-1950-P-option 2024-09-07 09:43:00+00:00       9   \n",
       "3      deribit-ETH-10SEP24-1950-P-option 2024-09-07 09:43:00+00:00       1   \n",
       "4      deribit-ETH-10SEP24-1950-P-option 2024-09-07 11:42:00+00:00       5   \n",
       "...                                  ...                       ...     ...   \n",
       "10819   deribit-ETH-9SEP24-2750-C-option 2024-09-06 17:38:00+00:00       1   \n",
       "10820   deribit-ETH-9SEP24-2750-C-option 2024-09-07 17:02:00+00:00       5   \n",
       "10821   deribit-ETH-9SEP24-2750-C-option 2024-09-07 18:21:00+00:00      45   \n",
       "10822   deribit-ETH-9SEP24-2750-C-option 2024-09-07 18:21:00+00:00      23   \n",
       "10823   deribit-ETH-9SEP24-2800-P-option 2024-09-06 17:37:00+00:00       1   \n",
       "\n",
       "       ReferenceRateUSD  USD Volume  \n",
       "0                2293.8     11469.0  \n",
       "1               2279.45     22794.5  \n",
       "2               2279.45    20515.05  \n",
       "3               2279.45     2279.45  \n",
       "4                2285.0     11425.0  \n",
       "...                 ...         ...  \n",
       "10819           2235.41     2235.41  \n",
       "10820           2288.46     11442.3  \n",
       "10821           2278.46    102530.7  \n",
       "10822           2278.46    52404.58  \n",
       "10823           2233.79     2233.79  \n",
       "\n",
       "[10824 rows x 5 columns]"
      ]
     },
     "execution_count": 19,
     "metadata": {},
     "output_type": "execute_result"
    }
   ],
   "source": [
    "full_vol"
   ]
  },
  {
   "cell_type": "code",
   "execution_count": 20,
   "id": "098b627d-97bd-443f-8be0-b74d4a461d31",
   "metadata": {
    "ExecuteTime": {
     "end_time": "2022-11-16T16:08:18.127446Z",
     "start_time": "2022-11-16T16:08:17.788595Z"
    }
   },
   "outputs": [],
   "source": [
    "vol_sum = full_vol.groupby(pd.Grouper(key='time', axis=0, freq='1D', sort=True)).sum()"
   ]
  },
  {
   "cell_type": "code",
   "execution_count": 21,
   "id": "22e951b2-30d6-4ba6-84f0-c0a4ab2e5c4d",
   "metadata": {
    "ExecuteTime": {
     "end_time": "2022-11-16T16:08:18.194699Z",
     "start_time": "2022-11-16T16:08:18.189830Z"
    }
   },
   "outputs": [],
   "source": [
    "vol_sum.to_csv('./deribit_' + str(asset).upper() + '_options_vol_' + str(start) + '_to_' + str(end) + '.csv')"
   ]
  },
  {
   "cell_type": "code",
   "execution_count": 22,
   "id": "3b4306fc-baf7-4bbd-8c8e-12cea6251ef7",
   "metadata": {
    "ExecuteTime": {
     "end_time": "2022-11-16T16:08:18.601381Z",
     "start_time": "2022-11-16T16:08:18.591344Z"
    }
   },
   "outputs": [
    {
     "data": {
      "text/html": [
       "<div>\n",
       "<style scoped>\n",
       "    .dataframe tbody tr th:only-of-type {\n",
       "        vertical-align: middle;\n",
       "    }\n",
       "\n",
       "    .dataframe tbody tr th {\n",
       "        vertical-align: top;\n",
       "    }\n",
       "\n",
       "    .dataframe thead th {\n",
       "        text-align: right;\n",
       "    }\n",
       "</style>\n",
       "<table border=\"1\" class=\"dataframe\">\n",
       "  <thead>\n",
       "    <tr style=\"text-align: right;\">\n",
       "      <th></th>\n",
       "      <th>USD Volume</th>\n",
       "    </tr>\n",
       "    <tr>\n",
       "      <th>time</th>\n",
       "      <th></th>\n",
       "    </tr>\n",
       "  </thead>\n",
       "  <tbody>\n",
       "    <tr>\n",
       "      <th>2024-09-01 00:00:00+00:00</th>\n",
       "      <td>5424658.14</td>\n",
       "    </tr>\n",
       "    <tr>\n",
       "      <th>2024-09-02 00:00:00+00:00</th>\n",
       "      <td>19562749.43</td>\n",
       "    </tr>\n",
       "    <tr>\n",
       "      <th>2024-09-03 00:00:00+00:00</th>\n",
       "      <td>40646881.35</td>\n",
       "    </tr>\n",
       "    <tr>\n",
       "      <th>2024-09-04 00:00:00+00:00</th>\n",
       "      <td>63609486.54</td>\n",
       "    </tr>\n",
       "    <tr>\n",
       "      <th>2024-09-05 00:00:00+00:00</th>\n",
       "      <td>44657679.33</td>\n",
       "    </tr>\n",
       "    <tr>\n",
       "      <th>2024-09-06 00:00:00+00:00</th>\n",
       "      <td>158263998.37</td>\n",
       "    </tr>\n",
       "    <tr>\n",
       "      <th>2024-09-07 00:00:00+00:00</th>\n",
       "      <td>44401580.5</td>\n",
       "    </tr>\n",
       "  </tbody>\n",
       "</table>\n",
       "</div>"
      ],
      "text/plain": [
       "                             USD Volume\n",
       "time                                   \n",
       "2024-09-01 00:00:00+00:00    5424658.14\n",
       "2024-09-02 00:00:00+00:00   19562749.43\n",
       "2024-09-03 00:00:00+00:00   40646881.35\n",
       "2024-09-04 00:00:00+00:00   63609486.54\n",
       "2024-09-05 00:00:00+00:00   44657679.33\n",
       "2024-09-06 00:00:00+00:00  158263998.37\n",
       "2024-09-07 00:00:00+00:00    44401580.5"
      ]
     },
     "execution_count": 22,
     "metadata": {},
     "output_type": "execute_result"
    }
   ],
   "source": [
    "vol_sum[['USD Volume']]"
   ]
  },
  {
   "cell_type": "code",
   "execution_count": 23,
   "id": "27e7ecd3-d397-4462-8460-849ce129644c",
   "metadata": {
    "ExecuteTime": {
     "end_time": "2022-11-16T16:08:19.594528Z",
     "start_time": "2022-11-16T16:08:19.246238Z"
    }
   },
   "outputs": [
    {
     "data": {
      "image/png": "[encoded data removed]",
      "text/plain": [
       "<Figure size 1400x800 with 1 Axes>"
      ]
     },
     "metadata": {},
     "output_type": "display_data"
    }
   ],
   "source": [
    "v = vol_sum.plot.line(y='USD Volume')\n",
    "v.set_xlabel(\"Date\", fontsize = 15)\n",
    "plt.setp(v.get_yticklabels(), fontsize=13)\n",
    "plt.setp(v.get_xticklabels(), fontsize=13)\n",
    "v.set_xlabel(\"\")\n",
    "plt.xlim([vol_sum.index[0], vol_sum.index[-1]])\n",
    "v.set_ylabel(\"Daily Volume (USD)\\n\", fontsize = 15)\n",
    "v.set_title(('\\nDeribit ' + str(asset).upper() + ' Options Volume\\n'),fontsize=23)\n",
    "v.get_legend().remove()\n",
    "v.yaxis.set_major_formatter(mticker.FuncFormatter(lambda x, pos: '${:,.1f}'.format(x/1000000) + 'M'))"
   ]
  },
  {
   "cell_type": "markdown",
   "id": "5b73c727-522d-4287-b88f-12ade4963561",
   "metadata": {},
   "source": [
    "# OPEN INTEREST\n",
    "\n",
    "Open interest represents the number of contracts that are currently outstanding and not settled for a specific derivatives market. "
   ]
  },
  {
   "cell_type": "code",
   "execution_count": null,
   "id": "10a44104-246f-4c27-a3f3-acdbd56ac6fc",
   "metadata": {},
   "outputs": [],
   "source": []
  },
  {
   "cell_type": "code",
   "execution_count": 24,
   "id": "76db11f0-eae1-4732-a117-2e590f58fe34",
   "metadata": {
    "ExecuteTime": {
     "end_time": "2022-11-16T15:45:00.457523Z",
     "start_time": "2022-11-16T15:45:00.438632Z"
    }
   },
   "outputs": [
    {
     "data": {
      "text/plain": [
       "376"
      ]
     },
     "execution_count": 24,
     "metadata": {},
     "output_type": "execute_result"
    }
   ],
   "source": [
    "# Drop markets without open interest data\n",
    "oi_cat = df_asset_options.loc[df_asset_options.listing < end, 'market'].tolist()\n",
    "len(oi_cat)"
   ]
  },
  {
   "cell_type": "code",
   "execution_count": 25,
   "id": "49ce9334-732b-45d5-8e0c-72253893ab78",
   "metadata": {
    "ExecuteTime": {
     "end_time": "2022-11-16T16:04:22.581211Z",
     "start_time": "2022-11-16T15:45:00.458934Z"
    }
   },
   "outputs": [
    {
     "name": "stdout",
     "output_type": "stream",
     "text": [
      "\n",
      "Retrieving EOD open interest for markets 0 through 420...\n",
      "2024-09-01 00:00:00\n",
      "...\n",
      "2024-09-09 00:00:00\n"
     ]
    }
   ],
   "source": [
    "full_oi = pd.DataFrame()\n",
    "batch_size = 420\n",
    "\n",
    "for i in range(0, len(oi_cat),batch_size):\n",
    "    mkt_batch = oi_cat[i:i+batch_size]\n",
    "    print(str('\\nRetrieving EOD open interest for markets ' + str(i) + ' through ' + str(i+batch_size) + '...'))\n",
    "    \n",
    "    start_date = pd.to_datetime(start)\n",
    "    end_date = pd.to_datetime(end)\n",
    "    delta = timedelta(days=1)\n",
    "    print(str(start_date) + '\\n...')\n",
    "    \n",
    "    while start_date <= end_date:\n",
    "        \n",
    "        oi_batch = client.get_market_open_interest(\n",
    "            markets=mkt_batch,\n",
    "            start_time = start_date.strftime(\"%Y-%m-%d\"),\n",
    "            limit_per_market = 1,\n",
    "            paging_from='start',\n",
    "            timezone='America/New_York'\n",
    "        ).to_dataframe()\n",
    "        #print(oi_batch)\n",
    "        full_oi = pd.concat((full_oi, oi_batch), axis = 0, ignore_index=False)\n",
    "        start_date += delta\n",
    "        \n",
    "    print(start_date)"
   ]
  },
  {
   "cell_type": "code",
   "execution_count": 26,
   "id": "a9824c76-53f2-4cec-9abc-f34a59e11ce4",
   "metadata": {
    "ExecuteTime": {
     "end_time": "2022-11-16T16:04:22.599889Z",
     "start_time": "2022-11-16T16:04:22.582934Z"
    }
   },
   "outputs": [
    {
     "name": "stdout",
     "output_type": "stream",
     "text": [
      "<class 'pandas.core.frame.DataFrame'>\n",
      "Index: 2534 entries, 0 to 193\n",
      "Data columns (total 6 columns):\n",
      " #   Column          Non-Null Count  Dtype              \n",
      "---  ------          --------------  -----              \n",
      " 0   market          2534 non-null   string             \n",
      " 1   time            2534 non-null   datetime64[ns, UTC]\n",
      " 2   contract_count  2534 non-null   Int64              \n",
      " 3   value_usd       2534 non-null   Float64            \n",
      " 4   database_time   2534 non-null   datetime64[ns, UTC]\n",
      " 5   exchange_time   2534 non-null   datetime64[ns, UTC]\n",
      "dtypes: Float64(1), Int64(1), datetime64[ns, UTC](3), string(1)\n",
      "memory usage: 143.5 KB\n"
     ]
    }
   ],
   "source": [
    "full_oi.info()"
   ]
  },
  {
   "cell_type": "code",
   "execution_count": 27,
   "id": "9352ebb9-e9a7-4ad4-ad04-0470d28f240d",
   "metadata": {
    "ExecuteTime": {
     "end_time": "2022-11-16T16:04:22.674861Z",
     "start_time": "2022-11-16T16:04:22.601451Z"
    }
   },
   "outputs": [],
   "source": [
    "oi_sum = full_oi.groupby(pd.Grouper(key='time', axis=0, freq='1D', sort=True))['value_usd'].sum()"
   ]
  },
  {
   "cell_type": "code",
   "execution_count": 28,
   "id": "9de2ab92-04ed-4c63-bfa3-32575bcacd36",
   "metadata": {
    "ExecuteTime": {
     "end_time": "2022-11-16T16:04:22.690310Z",
     "start_time": "2022-11-16T16:04:22.676534Z"
    }
   },
   "outputs": [
    {
     "data": {
      "text/plain": [
       "time\n",
       "2024-09-01 00:00:00+00:00             0.0\n",
       "2024-09-02 00:00:00+00:00      6467612.33\n",
       "2024-09-03 00:00:00+00:00     24927750.02\n",
       "2024-09-04 00:00:00+00:00     55323320.59\n",
       "2024-09-05 00:00:00+00:00     59305999.71\n",
       "2024-09-06 00:00:00+00:00      51922555.8\n",
       "2024-09-07 00:00:00+00:00    144108764.26\n",
       "2024-09-08 00:00:00+00:00    122269418.49\n",
       "Freq: D, Name: value_usd, dtype: Float64"
      ]
     },
     "execution_count": 28,
     "metadata": {},
     "output_type": "execute_result"
    }
   ],
   "source": [
    "oi_sum.to_csv('./deribit_' + str(asset).upper() + '_options_oi_' + str(start) + '_to_' + str(end) + '.csv')\n",
    "oi_sum"
   ]
  },
  {
   "cell_type": "code",
   "execution_count": 29,
   "id": "dd8bed00-66e3-45dd-9e1b-0d7c4b6b4f25",
   "metadata": {
    "ExecuteTime": {
     "end_time": "2022-11-16T16:04:23.046623Z",
     "start_time": "2022-11-16T16:04:22.691824Z"
    }
   },
   "outputs": [
    {
     "data": {
      "image/png": "[encoded data removed]",
      "text/plain": [
       "<Figure size 1400x800 with 1 Axes>"
      ]
     },
     "metadata": {},
     "output_type": "display_data"
    }
   ],
   "source": [
    "#p = sns.lineplot(data=vol_sum, x=\"time\", y=\"USD Volume\")\n",
    "oi = oi_sum.plot.area(y='value_usd')\n",
    "oi.set_xlabel(\"Date\", fontsize = 15)\n",
    "plt.setp(oi.get_yticklabels(), fontsize=13)\n",
    "plt.setp(oi.get_xticklabels(), fontsize=13)\n",
    "oi.set_xlabel(\"\")\n",
    "plt.xlim([oi_sum.index[0], oi_sum.index[-1]])\n",
    "oi.set_ylabel(\"Daily Open Interest (USD)\\n\", fontsize = 15)\n",
    "oi.set_title(('\\nDeribit ' + str(asset).upper() + ' Options Open Interest\\n'),fontsize=23)\n",
    "# oi.get_legend().remove()\n",
    "oi.yaxis.set_major_formatter(mticker.FuncFormatter(lambda x, pos: '${:,.2f}'.format(x/1_000_000) + 'M'))"
   ]
  },
  {
   "cell_type": "markdown",
   "id": "50e2220a-64b2-414e-90a9-b5221e5d61b6",
   "metadata": {},
   "source": [
    "## Split into Calls/Puts"
   ]
  },
  {
   "cell_type": "code",
   "execution_count": 30,
   "id": "c9f01384-6cce-4fe7-b52a-6c66ed6f6a2c",
   "metadata": {
    "ExecuteTime": {
     "end_time": "2022-11-16T16:04:23.203779Z",
     "start_time": "2022-11-16T16:04:23.048060Z"
    }
   },
   "outputs": [],
   "source": [
    "full_oi_split = full_oi.merge(df_asset_options[['market','option_contract_type']],how='left', on='market')"
   ]
  },
  {
   "cell_type": "code",
   "execution_count": 31,
   "id": "ad9307bd-8cae-42d5-90b9-c4e3e47ef69a",
   "metadata": {
    "ExecuteTime": {
     "end_time": "2022-11-16T16:04:23.224883Z",
     "start_time": "2022-11-16T16:04:23.205315Z"
    }
   },
   "outputs": [
    {
     "data": {
      "text/html": [
       "<div>\n",
       "<style scoped>\n",
       "    .dataframe tbody tr th:only-of-type {\n",
       "        vertical-align: middle;\n",
       "    }\n",
       "\n",
       "    .dataframe tbody tr th {\n",
       "        vertical-align: top;\n",
       "    }\n",
       "\n",
       "    .dataframe thead th {\n",
       "        text-align: right;\n",
       "    }\n",
       "</style>\n",
       "<table border=\"1\" class=\"dataframe\">\n",
       "  <thead>\n",
       "    <tr style=\"text-align: right;\">\n",
       "      <th></th>\n",
       "      <th>market</th>\n",
       "      <th>time</th>\n",
       "      <th>contract_count</th>\n",
       "      <th>value_usd</th>\n",
       "      <th>database_time</th>\n",
       "      <th>exchange_time</th>\n",
       "      <th>option_contract_type</th>\n",
       "    </tr>\n",
       "  </thead>\n",
       "  <tbody>\n",
       "    <tr>\n",
       "      <th>0</th>\n",
       "      <td>deribit-ETH-10SEP24-1950-C-option</td>\n",
       "      <td>2024-09-07 08:00:00+00:00</td>\n",
       "      <td>0</td>\n",
       "      <td>0.0</td>\n",
       "      <td>2024-09-07 08:00:19.312717+00:00</td>\n",
       "      <td>2024-09-07 08:00:00+00:00</td>\n",
       "      <td>call</td>\n",
       "    </tr>\n",
       "    <tr>\n",
       "      <th>1</th>\n",
       "      <td>deribit-ETH-10SEP24-1950-P-option</td>\n",
       "      <td>2024-09-07 08:00:00+00:00</td>\n",
       "      <td>0</td>\n",
       "      <td>0.0</td>\n",
       "      <td>2024-09-07 08:00:18.188738+00:00</td>\n",
       "      <td>2024-09-07 08:00:00+00:00</td>\n",
       "      <td>put</td>\n",
       "    </tr>\n",
       "    <tr>\n",
       "      <th>2</th>\n",
       "      <td>deribit-ETH-10SEP24-2000-C-option</td>\n",
       "      <td>2024-09-07 08:00:00+00:00</td>\n",
       "      <td>0</td>\n",
       "      <td>0.0</td>\n",
       "      <td>2024-09-07 08:00:18.188738+00:00</td>\n",
       "      <td>2024-09-07 08:00:00+00:00</td>\n",
       "      <td>call</td>\n",
       "    </tr>\n",
       "    <tr>\n",
       "      <th>3</th>\n",
       "      <td>deribit-ETH-10SEP24-2000-P-option</td>\n",
       "      <td>2024-09-07 08:00:00+00:00</td>\n",
       "      <td>0</td>\n",
       "      <td>0.0</td>\n",
       "      <td>2024-09-07 08:00:18.708225+00:00</td>\n",
       "      <td>2024-09-07 08:00:00+00:00</td>\n",
       "      <td>put</td>\n",
       "    </tr>\n",
       "    <tr>\n",
       "      <th>4</th>\n",
       "      <td>deribit-ETH-10SEP24-2050-C-option</td>\n",
       "      <td>2024-09-07 08:00:00+00:00</td>\n",
       "      <td>0</td>\n",
       "      <td>0.0</td>\n",
       "      <td>2024-09-07 08:00:18.708225+00:00</td>\n",
       "      <td>2024-09-07 08:00:00+00:00</td>\n",
       "      <td>call</td>\n",
       "    </tr>\n",
       "    <tr>\n",
       "      <th>...</th>\n",
       "      <td>...</td>\n",
       "      <td>...</td>\n",
       "      <td>...</td>\n",
       "      <td>...</td>\n",
       "      <td>...</td>\n",
       "      <td>...</td>\n",
       "      <td>...</td>\n",
       "    </tr>\n",
       "    <tr>\n",
       "      <th>2529</th>\n",
       "      <td>deribit-ETH-9SEP24-2800-P-option</td>\n",
       "      <td>2024-09-08 04:00:00+00:00</td>\n",
       "      <td>1</td>\n",
       "      <td>2285.35</td>\n",
       "      <td>2024-09-08 04:00:06.461248+00:00</td>\n",
       "      <td>2024-09-08 04:00:00+00:00</td>\n",
       "      <td>put</td>\n",
       "    </tr>\n",
       "    <tr>\n",
       "      <th>2530</th>\n",
       "      <td>deribit-ETH-9SEP24-2850-C-option</td>\n",
       "      <td>2024-09-08 04:00:00+00:00</td>\n",
       "      <td>0</td>\n",
       "      <td>0.0</td>\n",
       "      <td>2024-09-08 04:00:01.855497+00:00</td>\n",
       "      <td>2024-09-08 04:00:00+00:00</td>\n",
       "      <td>call</td>\n",
       "    </tr>\n",
       "    <tr>\n",
       "      <th>2531</th>\n",
       "      <td>deribit-ETH-9SEP24-2850-P-option</td>\n",
       "      <td>2024-09-08 04:00:00+00:00</td>\n",
       "      <td>0</td>\n",
       "      <td>0.0</td>\n",
       "      <td>2024-09-08 04:00:03.353208+00:00</td>\n",
       "      <td>2024-09-08 04:00:00+00:00</td>\n",
       "      <td>put</td>\n",
       "    </tr>\n",
       "    <tr>\n",
       "      <th>2532</th>\n",
       "      <td>deribit-ETH-9SEP24-2900-C-option</td>\n",
       "      <td>2024-09-08 04:00:00+00:00</td>\n",
       "      <td>0</td>\n",
       "      <td>0.0</td>\n",
       "      <td>2024-09-08 04:00:04.393566+00:00</td>\n",
       "      <td>2024-09-08 04:00:00+00:00</td>\n",
       "      <td>call</td>\n",
       "    </tr>\n",
       "    <tr>\n",
       "      <th>2533</th>\n",
       "      <td>deribit-ETH-9SEP24-2900-P-option</td>\n",
       "      <td>2024-09-08 04:00:00+00:00</td>\n",
       "      <td>0</td>\n",
       "      <td>0.0</td>\n",
       "      <td>2024-09-08 04:00:02.869006+00:00</td>\n",
       "      <td>2024-09-08 04:00:00+00:00</td>\n",
       "      <td>put</td>\n",
       "    </tr>\n",
       "  </tbody>\n",
       "</table>\n",
       "<p>2534 rows × 7 columns</p>\n",
       "</div>"
      ],
      "text/plain": [
       "                                 market                      time  \\\n",
       "0     deribit-ETH-10SEP24-1950-C-option 2024-09-07 08:00:00+00:00   \n",
       "1     deribit-ETH-10SEP24-1950-P-option 2024-09-07 08:00:00+00:00   \n",
       "2     deribit-ETH-10SEP24-2000-C-option 2024-09-07 08:00:00+00:00   \n",
       "3     deribit-ETH-10SEP24-2000-P-option 2024-09-07 08:00:00+00:00   \n",
       "4     deribit-ETH-10SEP24-2050-C-option 2024-09-07 08:00:00+00:00   \n",
       "...                                 ...                       ...   \n",
       "2529   deribit-ETH-9SEP24-2800-P-option 2024-09-08 04:00:00+00:00   \n",
       "2530   deribit-ETH-9SEP24-2850-C-option 2024-09-08 04:00:00+00:00   \n",
       "2531   deribit-ETH-9SEP24-2850-P-option 2024-09-08 04:00:00+00:00   \n",
       "2532   deribit-ETH-9SEP24-2900-C-option 2024-09-08 04:00:00+00:00   \n",
       "2533   deribit-ETH-9SEP24-2900-P-option 2024-09-08 04:00:00+00:00   \n",
       "\n",
       "      contract_count  value_usd                    database_time  \\\n",
       "0                  0        0.0 2024-09-07 08:00:19.312717+00:00   \n",
       "1                  0        0.0 2024-09-07 08:00:18.188738+00:00   \n",
       "2                  0        0.0 2024-09-07 08:00:18.188738+00:00   \n",
       "3                  0        0.0 2024-09-07 08:00:18.708225+00:00   \n",
       "4                  0        0.0 2024-09-07 08:00:18.708225+00:00   \n",
       "...              ...        ...                              ...   \n",
       "2529               1    2285.35 2024-09-08 04:00:06.461248+00:00   \n",
       "2530               0        0.0 2024-09-08 04:00:01.855497+00:00   \n",
       "2531               0        0.0 2024-09-08 04:00:03.353208+00:00   \n",
       "2532               0        0.0 2024-09-08 04:00:04.393566+00:00   \n",
       "2533               0        0.0 2024-09-08 04:00:02.869006+00:00   \n",
       "\n",
       "                 exchange_time option_contract_type  \n",
       "0    2024-09-07 08:00:00+00:00                 call  \n",
       "1    2024-09-07 08:00:00+00:00                  put  \n",
       "2    2024-09-07 08:00:00+00:00                 call  \n",
       "3    2024-09-07 08:00:00+00:00                  put  \n",
       "4    2024-09-07 08:00:00+00:00                 call  \n",
       "...                        ...                  ...  \n",
       "2529 2024-09-08 04:00:00+00:00                  put  \n",
       "2530 2024-09-08 04:00:00+00:00                 call  \n",
       "2531 2024-09-08 04:00:00+00:00                  put  \n",
       "2532 2024-09-08 04:00:00+00:00                 call  \n",
       "2533 2024-09-08 04:00:00+00:00                  put  \n",
       "\n",
       "[2534 rows x 7 columns]"
      ]
     },
     "execution_count": 31,
     "metadata": {},
     "output_type": "execute_result"
    }
   ],
   "source": [
    "full_oi_split"
   ]
  },
  {
   "cell_type": "code",
   "execution_count": 32,
   "id": "b7db116c-470c-4259-9060-e8553ecef7eb",
   "metadata": {
    "ExecuteTime": {
     "end_time": "2022-11-16T16:04:23.374587Z",
     "start_time": "2022-11-16T16:04:23.226444Z"
    }
   },
   "outputs": [],
   "source": [
    "calls = full_oi_split.loc[(full_oi_split.option_contract_type == 'call')]\n",
    "call_sum_split = calls.groupby(pd.Grouper(key='time', axis=0, freq='1D', sort=True))[['value_usd']].sum()\n",
    "puts = full_oi_split.loc[(full_oi_split.option_contract_type == 'put')]\n",
    "put_sum_split = puts.groupby(pd.Grouper(key='time', axis=0, freq='1D', sort=True))[['value_usd']].sum()"
   ]
  },
  {
   "cell_type": "code",
   "execution_count": 33,
   "id": "13d72dc8-ecec-4b05-9199-45c7c0cc0346",
   "metadata": {
    "ExecuteTime": {
     "end_time": "2022-11-16T16:04:23.379994Z",
     "start_time": "2022-11-16T16:04:23.376286Z"
    }
   },
   "outputs": [],
   "source": [
    "put_sum_split = put_sum_split.rename(columns={\"value_usd\": \"Puts - USD Value\", \"contract_count\": \"Puts - Contract Count\" })\n",
    "call_sum_split = call_sum_split.rename(columns={\"value_usd\": \"Calls - USD Value\", \"contract_count\": \"Calls - Contract Count\" })"
   ]
  },
  {
   "cell_type": "code",
   "execution_count": 34,
   "id": "a862bfcf-08ee-4a47-b4e6-245f8ae8ee6d",
   "metadata": {
    "ExecuteTime": {
     "end_time": "2022-11-16T16:04:23.404968Z",
     "start_time": "2022-11-16T16:04:23.381421Z"
    }
   },
   "outputs": [
    {
     "data": {
      "text/html": [
       "<div>\n",
       "<style scoped>\n",
       "    .dataframe tbody tr th:only-of-type {\n",
       "        vertical-align: middle;\n",
       "    }\n",
       "\n",
       "    .dataframe tbody tr th {\n",
       "        vertical-align: top;\n",
       "    }\n",
       "\n",
       "    .dataframe thead th {\n",
       "        text-align: right;\n",
       "    }\n",
       "</style>\n",
       "<table border=\"1\" class=\"dataframe\">\n",
       "  <thead>\n",
       "    <tr style=\"text-align: right;\">\n",
       "      <th></th>\n",
       "      <th>Calls - USD Value</th>\n",
       "      <th>Puts - USD Value</th>\n",
       "    </tr>\n",
       "    <tr>\n",
       "      <th>time</th>\n",
       "      <th></th>\n",
       "      <th></th>\n",
       "    </tr>\n",
       "  </thead>\n",
       "  <tbody>\n",
       "    <tr>\n",
       "      <th>2024-09-01 00:00:00+00:00</th>\n",
       "      <td>0.0</td>\n",
       "      <td>0.0</td>\n",
       "    </tr>\n",
       "    <tr>\n",
       "      <th>2024-09-02 00:00:00+00:00</th>\n",
       "      <td>4987937.59</td>\n",
       "      <td>1479674.74</td>\n",
       "    </tr>\n",
       "    <tr>\n",
       "      <th>2024-09-03 00:00:00+00:00</th>\n",
       "      <td>14177673.6</td>\n",
       "      <td>10750076.42</td>\n",
       "    </tr>\n",
       "    <tr>\n",
       "      <th>2024-09-04 00:00:00+00:00</th>\n",
       "      <td>30418324.31</td>\n",
       "      <td>24904996.28</td>\n",
       "    </tr>\n",
       "    <tr>\n",
       "      <th>2024-09-05 00:00:00+00:00</th>\n",
       "      <td>37814891.94</td>\n",
       "      <td>21491107.77</td>\n",
       "    </tr>\n",
       "    <tr>\n",
       "      <th>2024-09-06 00:00:00+00:00</th>\n",
       "      <td>24772293.7</td>\n",
       "      <td>27150262.1</td>\n",
       "    </tr>\n",
       "    <tr>\n",
       "      <th>2024-09-07 00:00:00+00:00</th>\n",
       "      <td>73624086.44</td>\n",
       "      <td>70484677.82</td>\n",
       "    </tr>\n",
       "    <tr>\n",
       "      <th>2024-09-08 00:00:00+00:00</th>\n",
       "      <td>61750871.09</td>\n",
       "      <td>60518547.4</td>\n",
       "    </tr>\n",
       "  </tbody>\n",
       "</table>\n",
       "</div>"
      ],
      "text/plain": [
       "                           Calls - USD Value  Puts - USD Value\n",
       "time                                                          \n",
       "2024-09-01 00:00:00+00:00                0.0               0.0\n",
       "2024-09-02 00:00:00+00:00         4987937.59        1479674.74\n",
       "2024-09-03 00:00:00+00:00         14177673.6       10750076.42\n",
       "2024-09-04 00:00:00+00:00        30418324.31       24904996.28\n",
       "2024-09-05 00:00:00+00:00        37814891.94       21491107.77\n",
       "2024-09-06 00:00:00+00:00         24772293.7        27150262.1\n",
       "2024-09-07 00:00:00+00:00        73624086.44       70484677.82\n",
       "2024-09-08 00:00:00+00:00        61750871.09        60518547.4"
      ]
     },
     "execution_count": 34,
     "metadata": {},
     "output_type": "execute_result"
    }
   ],
   "source": [
    "full_oi_split = call_sum_split.merge(put_sum_split,how='left', on='time')\n",
    "full_oi_split"
   ]
  },
  {
   "cell_type": "code",
   "execution_count": 35,
   "id": "bd00fa9f-7197-4124-b7b9-c44d829d2d21",
   "metadata": {
    "ExecuteTime": {
     "end_time": "2022-11-16T16:04:23.418691Z",
     "start_time": "2022-11-16T16:04:23.406458Z"
    }
   },
   "outputs": [
    {
     "data": {
      "text/html": [
       "<div>\n",
       "<style scoped>\n",
       "    .dataframe tbody tr th:only-of-type {\n",
       "        vertical-align: middle;\n",
       "    }\n",
       "\n",
       "    .dataframe tbody tr th {\n",
       "        vertical-align: top;\n",
       "    }\n",
       "\n",
       "    .dataframe thead th {\n",
       "        text-align: right;\n",
       "    }\n",
       "</style>\n",
       "<table border=\"1\" class=\"dataframe\">\n",
       "  <thead>\n",
       "    <tr style=\"text-align: right;\">\n",
       "      <th></th>\n",
       "      <th>Put/Call Ratio</th>\n",
       "    </tr>\n",
       "    <tr>\n",
       "      <th>time</th>\n",
       "      <th></th>\n",
       "    </tr>\n",
       "  </thead>\n",
       "  <tbody>\n",
       "    <tr>\n",
       "      <th>2024-09-01 00:00:00+00:00</th>\n",
       "      <td>NaN</td>\n",
       "    </tr>\n",
       "    <tr>\n",
       "      <th>2024-09-02 00:00:00+00:00</th>\n",
       "      <td>0.296651</td>\n",
       "    </tr>\n",
       "    <tr>\n",
       "      <th>2024-09-03 00:00:00+00:00</th>\n",
       "      <td>0.75824</td>\n",
       "    </tr>\n",
       "    <tr>\n",
       "      <th>2024-09-04 00:00:00+00:00</th>\n",
       "      <td>0.81875</td>\n",
       "    </tr>\n",
       "    <tr>\n",
       "      <th>2024-09-05 00:00:00+00:00</th>\n",
       "      <td>0.568324</td>\n",
       "    </tr>\n",
       "    <tr>\n",
       "      <th>2024-09-06 00:00:00+00:00</th>\n",
       "      <td>1.095993</td>\n",
       "    </tr>\n",
       "    <tr>\n",
       "      <th>2024-09-07 00:00:00+00:00</th>\n",
       "      <td>0.957359</td>\n",
       "    </tr>\n",
       "    <tr>\n",
       "      <th>2024-09-08 00:00:00+00:00</th>\n",
       "      <td>0.980044</td>\n",
       "    </tr>\n",
       "  </tbody>\n",
       "</table>\n",
       "</div>"
      ],
      "text/plain": [
       "                           Put/Call Ratio\n",
       "time                                     \n",
       "2024-09-01 00:00:00+00:00             NaN\n",
       "2024-09-02 00:00:00+00:00        0.296651\n",
       "2024-09-03 00:00:00+00:00         0.75824\n",
       "2024-09-04 00:00:00+00:00         0.81875\n",
       "2024-09-05 00:00:00+00:00        0.568324\n",
       "2024-09-06 00:00:00+00:00        1.095993\n",
       "2024-09-07 00:00:00+00:00        0.957359\n",
       "2024-09-08 00:00:00+00:00        0.980044"
      ]
     },
     "execution_count": 35,
     "metadata": {},
     "output_type": "execute_result"
    }
   ],
   "source": [
    "full_oi_split['Put/Call Ratio'] = full_oi_split['Puts - USD Value'] / full_oi_split['Calls - USD Value']\n",
    "full_oi_split[['Put/Call Ratio']]"
   ]
  },
  {
   "cell_type": "code",
   "execution_count": 36,
   "id": "21b43118-14b6-4791-96f3-97074a2dabcd",
   "metadata": {
    "ExecuteTime": {
     "end_time": "2022-11-16T16:04:23.430198Z",
     "start_time": "2022-11-16T16:04:23.420188Z"
    }
   },
   "outputs": [],
   "source": [
    "full_oi_split.to_csv('./deribit_' + str(asset).upper() + '_options_oi_calls_puts_' + str(start) + '_to_' + str(end) + '.csv')"
   ]
  },
  {
   "cell_type": "code",
   "execution_count": 37,
   "id": "8563b633-b4f4-401f-b69b-248409636157",
   "metadata": {
    "ExecuteTime": {
     "end_time": "2022-11-16T16:04:23.854032Z",
     "start_time": "2022-11-16T16:04:23.431682Z"
    }
   },
   "outputs": [
    {
     "data": {
      "image/png": "[encoded data removed]",
      "text/plain": [
       "<Figure size 1400x800 with 1 Axes>"
      ]
     },
     "metadata": {},
     "output_type": "display_data"
    }
   ],
   "source": [
    "pc = sns.lineplot(data=full_oi_split[['Put/Call Ratio']], x=\"time\", y=\"Put/Call Ratio\")\n",
    "pc.set_xlabel(\"Date\", fontsize = 15)\n",
    "plt.setp(pc.get_yticklabels(), fontsize=13)\n",
    "plt.setp(pc.get_xticklabels(), fontsize=13)\n",
    "pc.set_xlabel(\"\")\n",
    "plt.xlim([full_oi_split.index[0], full_oi_split.index[-1]])\n",
    "pc.set_ylabel(\"Put/Call Ratio\\n\", fontsize = 15)\n",
    "pc.set_title(('\\nDeribit ' + str(asset).upper() + ' Options\\nPut/Call Ratio\\n'),fontsize=23)\n",
    "pc.yaxis.set_major_formatter(mticker.FuncFormatter(lambda x, pos: '{:,.2f}'.format(x)))"
   ]
  },
  {
   "cell_type": "code",
   "execution_count": null,
   "id": "0d3017f8-9bf5-4254-a857-c5a83ffba29f",
   "metadata": {},
   "outputs": [],
   "source": []
  }
 ],
 "metadata": {
  "kernelspec": {
   "display_name": "Python 3 (ipykernel)",
   "language": "python",
   "name": "python3"
  },
  "language_info": {
   "codemirror_mode": {
    "name": "ipython",
    "version": 3
   },
   "file_extension": ".py",
   "mimetype": "text/x-python",
   "name": "python",
   "nbconvert_exporter": "python",
   "pygments_lexer": "ipython3",
   "version": "3.8.8"
  },
  "toc": {
   "base_numbering": 1,
   "nav_menu": {},
   "number_sections": false,
   "sideBar": true,
   "skip_h1_title": false,
   "title_cell": "Table of Contents",
   "title_sidebar": "Contents",
   "toc_cell": false,
   "toc_position": {},
   "toc_section_display": true,
   "toc_window_display": false
  }
 },
 "nbformat": 4,
 "nbformat_minor": 5
}
